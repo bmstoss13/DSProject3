{
 "cells": [
  {
   "cell_type": "code",
   "execution_count": 1,
   "id": "4cda24c7-47c8-4e55-9fe4-ffadc3c79bbe",
   "metadata": {
    "tags": []
   },
   "outputs": [
    {
     "name": "stdout",
     "output_type": "stream",
     "text": [
      "Defaulting to user installation because normal site-packages is not writeable\n",
      "Requirement already satisfied: ultralytics in /home/acg3wjm/.local/lib/python3.11/site-packages (8.3.111)\n",
      "Collecting numpy<=2.1.1,>=1.23.0 (from ultralytics)\n",
      "  Obtaining dependency information for numpy<=2.1.1,>=1.23.0 from https://files.pythonhosted.org/packages/d9/37/108d692f7e2544b9ae972c7bfa06c26717871c273ccec86470bc3132b04d/numpy-2.1.1-cp311-cp311-manylinux_2_17_x86_64.manylinux2014_x86_64.whl.metadata\n",
      "  Downloading numpy-2.1.1-cp311-cp311-manylinux_2_17_x86_64.manylinux2014_x86_64.whl.metadata (60 kB)\n",
      "\u001b[2K     \u001b[90m━━━━━━━━━━━━━━━━━━━━━━━━━━━━━━━━━━━━━━━━\u001b[0m \u001b[32m60.9/60.9 kB\u001b[0m \u001b[31m6.3 MB/s\u001b[0m eta \u001b[36m0:00:00\u001b[0m\n",
      "\u001b[?25hRequirement already satisfied: matplotlib>=3.3.0 in /apps/software/standard/core/jupyterlab/3.6.3-py3.11/lib/python3.11/site-packages (from ultralytics) (3.7.2)\n",
      "Requirement already satisfied: opencv-python>=4.6.0 in /home/acg3wjm/.local/lib/python3.11/site-packages (from ultralytics) (4.11.0.86)\n",
      "Requirement already satisfied: pillow>=7.1.2 in /apps/software/standard/core/jupyterlab/3.6.3-py3.11/lib/python3.11/site-packages (from ultralytics) (9.5.0)\n",
      "Requirement already satisfied: pyyaml>=5.3.1 in /apps/software/standard/core/jupyterlab/3.6.3-py3.11/lib/python3.11/site-packages (from ultralytics) (6.0.1)\n",
      "Requirement already satisfied: requests>=2.23.0 in /apps/software/standard/core/jupyterlab/3.6.3-py3.11/lib/python3.11/site-packages (from ultralytics) (2.31.0)\n",
      "Requirement already satisfied: scipy>=1.4.1 in /home/acg3wjm/.local/lib/python3.11/site-packages (from ultralytics) (1.15.2)\n",
      "Requirement already satisfied: torch>=1.8.0 in /home/acg3wjm/.local/lib/python3.11/site-packages (from ultralytics) (2.6.0)\n",
      "Requirement already satisfied: torchvision>=0.9.0 in /home/acg3wjm/.local/lib/python3.11/site-packages (from ultralytics) (0.21.0)\n",
      "Requirement already satisfied: tqdm>=4.64.0 in /apps/software/standard/core/jupyterlab/3.6.3-py3.11/lib/python3.11/site-packages (from ultralytics) (4.65.0)\n",
      "Requirement already satisfied: psutil in /apps/software/standard/core/jupyterlab/3.6.3-py3.11/lib/python3.11/site-packages (from ultralytics) (5.9.5)\n",
      "Requirement already satisfied: py-cpuinfo in /home/acg3wjm/.local/lib/python3.11/site-packages (from ultralytics) (9.0.0)\n",
      "Requirement already satisfied: pandas>=1.1.4 in /home/acg3wjm/.local/lib/python3.11/site-packages (from ultralytics) (2.2.3)\n",
      "Requirement already satisfied: seaborn>=0.11.0 in /apps/software/standard/core/jupyterlab/3.6.3-py3.11/lib/python3.11/site-packages (from ultralytics) (0.12.2)\n",
      "Requirement already satisfied: ultralytics-thop>=2.0.0 in /home/acg3wjm/.local/lib/python3.11/site-packages (from ultralytics) (2.0.14)\n",
      "Requirement already satisfied: contourpy>=1.0.1 in /apps/software/standard/core/jupyterlab/3.6.3-py3.11/lib/python3.11/site-packages (from matplotlib>=3.3.0->ultralytics) (1.1.0)\n",
      "Requirement already satisfied: cycler>=0.10 in /apps/software/standard/core/jupyterlab/3.6.3-py3.11/lib/python3.11/site-packages (from matplotlib>=3.3.0->ultralytics) (0.11.0)\n",
      "Requirement already satisfied: fonttools>=4.22.0 in /apps/software/standard/core/jupyterlab/3.6.3-py3.11/lib/python3.11/site-packages (from matplotlib>=3.3.0->ultralytics) (4.42.1)\n",
      "Requirement already satisfied: kiwisolver>=1.0.1 in /apps/software/standard/core/jupyterlab/3.6.3-py3.11/lib/python3.11/site-packages (from matplotlib>=3.3.0->ultralytics) (1.4.5)\n",
      "Requirement already satisfied: packaging>=20.0 in /apps/software/standard/core/jupyterlab/3.6.3-py3.11/lib/python3.11/site-packages (from matplotlib>=3.3.0->ultralytics) (23.1)\n",
      "Requirement already satisfied: pyparsing<3.1,>=2.3.1 in /apps/software/standard/core/jupyterlab/3.6.3-py3.11/lib/python3.11/site-packages (from matplotlib>=3.3.0->ultralytics) (3.0.9)\n",
      "Requirement already satisfied: python-dateutil>=2.7 in /home/acg3wjm/.local/lib/python3.11/site-packages (from matplotlib>=3.3.0->ultralytics) (2.9.0.post0)\n",
      "Requirement already satisfied: pytz>=2020.1 in /home/acg3wjm/.local/lib/python3.11/site-packages (from pandas>=1.1.4->ultralytics) (2025.2)\n",
      "Requirement already satisfied: tzdata>=2022.7 in /home/acg3wjm/.local/lib/python3.11/site-packages (from pandas>=1.1.4->ultralytics) (2025.2)\n",
      "Requirement already satisfied: charset-normalizer<4,>=2 in /apps/software/standard/core/jupyterlab/3.6.3-py3.11/lib/python3.11/site-packages (from requests>=2.23.0->ultralytics) (3.2.0)\n",
      "Requirement already satisfied: idna<4,>=2.5 in /apps/software/standard/core/jupyterlab/3.6.3-py3.11/lib/python3.11/site-packages (from requests>=2.23.0->ultralytics) (3.4)\n",
      "Requirement already satisfied: urllib3<3,>=1.21.1 in /apps/software/standard/core/jupyterlab/3.6.3-py3.11/lib/python3.11/site-packages (from requests>=2.23.0->ultralytics) (2.0.4)\n",
      "Requirement already satisfied: certifi>=2017.4.17 in /apps/software/standard/core/jupyterlab/3.6.3-py3.11/lib/python3.11/site-packages (from requests>=2.23.0->ultralytics) (2023.7.22)\n",
      "Requirement already satisfied: filelock in /home/acg3wjm/.local/lib/python3.11/site-packages (from torch>=1.8.0->ultralytics) (3.18.0)\n",
      "Requirement already satisfied: typing-extensions>=4.10.0 in /home/acg3wjm/.local/lib/python3.11/site-packages (from torch>=1.8.0->ultralytics) (4.13.2)\n",
      "Requirement already satisfied: networkx in /apps/software/standard/core/jupyterlab/3.6.3-py3.11/lib/python3.11/site-packages (from torch>=1.8.0->ultralytics) (3.1)\n",
      "Requirement already satisfied: jinja2 in /apps/software/standard/core/jupyterlab/3.6.3-py3.11/lib/python3.11/site-packages (from torch>=1.8.0->ultralytics) (3.1.2)\n",
      "Requirement already satisfied: fsspec in /apps/software/standard/core/jupyterlab/3.6.3-py3.11/lib/python3.11/site-packages (from torch>=1.8.0->ultralytics) (2023.6.0)\n",
      "Requirement already satisfied: nvidia-cuda-nvrtc-cu12==12.4.127 in /home/acg3wjm/.local/lib/python3.11/site-packages (from torch>=1.8.0->ultralytics) (12.4.127)\n",
      "Requirement already satisfied: nvidia-cuda-runtime-cu12==12.4.127 in /home/acg3wjm/.local/lib/python3.11/site-packages (from torch>=1.8.0->ultralytics) (12.4.127)\n",
      "Requirement already satisfied: nvidia-cuda-cupti-cu12==12.4.127 in /home/acg3wjm/.local/lib/python3.11/site-packages (from torch>=1.8.0->ultralytics) (12.4.127)\n",
      "Requirement already satisfied: nvidia-cudnn-cu12==9.1.0.70 in /home/acg3wjm/.local/lib/python3.11/site-packages (from torch>=1.8.0->ultralytics) (9.1.0.70)\n",
      "Requirement already satisfied: nvidia-cublas-cu12==12.4.5.8 in /home/acg3wjm/.local/lib/python3.11/site-packages (from torch>=1.8.0->ultralytics) (12.4.5.8)\n",
      "Requirement already satisfied: nvidia-cufft-cu12==11.2.1.3 in /home/acg3wjm/.local/lib/python3.11/site-packages (from torch>=1.8.0->ultralytics) (11.2.1.3)\n",
      "Requirement already satisfied: nvidia-curand-cu12==10.3.5.147 in /home/acg3wjm/.local/lib/python3.11/site-packages (from torch>=1.8.0->ultralytics) (10.3.5.147)\n",
      "Requirement already satisfied: nvidia-cusolver-cu12==11.6.1.9 in /home/acg3wjm/.local/lib/python3.11/site-packages (from torch>=1.8.0->ultralytics) (11.6.1.9)\n",
      "Requirement already satisfied: nvidia-cusparse-cu12==12.3.1.170 in /home/acg3wjm/.local/lib/python3.11/site-packages (from torch>=1.8.0->ultralytics) (12.3.1.170)\n",
      "Requirement already satisfied: nvidia-cusparselt-cu12==0.6.2 in /home/acg3wjm/.local/lib/python3.11/site-packages (from torch>=1.8.0->ultralytics) (0.6.2)\n",
      "Requirement already satisfied: nvidia-nccl-cu12==2.21.5 in /home/acg3wjm/.local/lib/python3.11/site-packages (from torch>=1.8.0->ultralytics) (2.21.5)\n",
      "Requirement already satisfied: nvidia-nvtx-cu12==12.4.127 in /home/acg3wjm/.local/lib/python3.11/site-packages (from torch>=1.8.0->ultralytics) (12.4.127)\n",
      "Requirement already satisfied: nvidia-nvjitlink-cu12==12.4.127 in /home/acg3wjm/.local/lib/python3.11/site-packages (from torch>=1.8.0->ultralytics) (12.4.127)\n",
      "Requirement already satisfied: triton==3.2.0 in /home/acg3wjm/.local/lib/python3.11/site-packages (from torch>=1.8.0->ultralytics) (3.2.0)\n",
      "Requirement already satisfied: sympy==1.13.1 in /home/acg3wjm/.local/lib/python3.11/site-packages (from torch>=1.8.0->ultralytics) (1.13.1)\n",
      "Requirement already satisfied: mpmath<1.4,>=1.1.0 in /home/acg3wjm/.local/lib/python3.11/site-packages (from sympy==1.13.1->torch>=1.8.0->ultralytics) (1.3.0)\n",
      "Requirement already satisfied: six>=1.5 in /home/acg3wjm/.local/lib/python3.11/site-packages (from python-dateutil>=2.7->matplotlib>=3.3.0->ultralytics) (1.17.0)\n",
      "Requirement already satisfied: MarkupSafe>=2.0 in /apps/software/standard/core/jupyterlab/3.6.3-py3.11/lib/python3.11/site-packages (from jinja2->torch>=1.8.0->ultralytics) (2.1.3)\n",
      "Downloading numpy-2.1.1-cp311-cp311-manylinux_2_17_x86_64.manylinux2014_x86_64.whl (16.3 MB)\n",
      "\u001b[2K   \u001b[90m━━━━━━━━━━━━━━━━━━━━━━━━━━━━━━━━━━━━━━━━\u001b[0m \u001b[32m16.3/16.3 MB\u001b[0m \u001b[31m50.1 MB/s\u001b[0m eta \u001b[36m0:00:00\u001b[0m00:01\u001b[0m00:01\u001b[0m\n",
      "\u001b[?25hInstalling collected packages: numpy\n",
      "  Attempting uninstall: numpy\n",
      "    Found existing installation: numpy 2.2.4\n",
      "    Uninstalling numpy-2.2.4:\n",
      "      Successfully uninstalled numpy-2.2.4\n",
      "\u001b[33m  WARNING: The scripts f2py and numpy-config are installed in '/home/acg3wjm/.local/bin' which is not on PATH.\n",
      "  Consider adding this directory to PATH or, if you prefer to suppress this warning, use --no-warn-script-location.\u001b[0m\u001b[33m\n",
      "\u001b[0m\u001b[31mERROR: pip's dependency resolver does not currently take into account all the packages that are installed. This behaviour is the source of the following dependency conflicts.\n",
      "numba 0.57.1 requires numpy<1.25,>=1.21, but you have numpy 2.1.1 which is incompatible.\u001b[0m\u001b[31m\n",
      "\u001b[0mSuccessfully installed numpy-2.1.1\n",
      "Note: you may need to restart the kernel to use updated packages.\n"
     ]
    }
   ],
   "source": [
    "# install the latest version\n",
    "%pip install ultralytics"
   ]
  },
  {
   "cell_type": "code",
   "execution_count": 1,
   "id": "238c88f1-af2c-4fc4-8835-90aa5fe95957",
   "metadata": {
    "tags": []
   },
   "outputs": [
    {
     "name": "stdout",
     "output_type": "stream",
     "text": [
      "fatal: destination path 'DSProject3' already exists and is not an empty directory.\n"
     ]
    }
   ],
   "source": [
    "import pandas as pd\n",
    "import os\n",
    "from sklearn.model_selection import train_test_split\n",
    "\n",
    "!git clone https://github.com/bmstoss13/DSProject3\n"
   ]
  },
  {
   "cell_type": "code",
   "execution_count": 2,
   "id": "8d95db8e-b06a-4ff4-bee6-7a1ac2b88bd3",
   "metadata": {
    "tags": []
   },
   "outputs": [
    {
     "name": "stdout",
     "output_type": "stream",
     "text": [
      "/sfs/weka/scratch/acg3wjm/DSP3\n"
     ]
    }
   ],
   "source": [
    "print(os.getcwd())"
   ]
  },
  {
   "cell_type": "code",
   "execution_count": null,
   "id": "dad38c40-21e5-4942-bbbc-cd121dfcf40f",
   "metadata": {},
   "outputs": [],
   "source": []
  },
  {
   "cell_type": "code",
   "execution_count": 3,
   "id": "46cd95e9-8f9f-4fa2-8d41-b1986e82a3c0",
   "metadata": {
    "tags": []
   },
   "outputs": [],
   "source": [
    "import pandas as pd\n",
    "import os\n",
    "from sklearn.model_selection import train_test_split\n",
    "\n",
    "# Constants\n",
    "WIDTH = 1280\n",
    "HEIGHT = 924\n",
    "\n",
    "\n",
    "\n",
    "\n",
    "# Load cleaned dataset\n",
    "df = pd.read_csv(\"/sfs/weka/scratch/acg3wjm/DSProject3/SCRIPTS/cleaned_foid.csv\")\n",
    "\n",
    "# Mapping class names to class IDs\n",
    "class_map = {\n",
    "    'Albacore':0, 'Bigeye tuna':1, 'Black marlin':2, 'Blue marlin':3, 'Great barracuda':4, 'Human':5,\n",
    "    'Indo Pacific sailfish':6, 'Long snouted lancetfish':7, 'Mahi mahi':8, 'Mola mola':9, 'No fish':10,\n",
    "    'Oilfish':11, 'Opah':12, 'Pelagic stingray':13, 'Pomfret':14, 'Rainbow runner':15, 'Roudie scolar':16, 'Shark':17,\n",
    "    'Shortbill spearfish':18, 'Sickle pomfret':19, 'Skipjack tuna':20, 'Snake mackerel':21, 'Striped marlin':22,\n",
    "    'Swordfish':23, 'Thresher shark':24, 'Unknown':25, 'Wahoo':26, 'Yellowfin tuna':27\n",
    "}\n"
   ]
  },
  {
   "cell_type": "code",
   "execution_count": 4,
   "id": "b77b5e9d-7f08-4ad2-8d82-12dee94a400f",
   "metadata": {
    "tags": []
   },
   "outputs": [],
   "source": [
    "from ultralytics import YOLO\n",
    "import os"
   ]
  },
  {
   "cell_type": "code",
   "execution_count": 5,
   "id": "54288c7f-0643-4d6b-bfd1-6e91e22061bd",
   "metadata": {
    "tags": []
   },
   "outputs": [],
   "source": [
    "# Define paths \n",
    "import yaml\n",
    "train_path = '/sfs/weka/scratch/acg3wjm/DSProject3/SCRIPTS/images/train'\n",
    "val_path = r'/sfs/weka/scratch/acg3wjm/DSProject3/SCRIPTS/images/val'\n",
    "#test_path = 'C:/Users/Brian/.vscode/DS4002-Project3/DSProject3/images/test'\n",
    "\n",
    "# Get list of class names from the class_map (in correct order)\n",
    "class_names = [None] * len(class_map)\n",
    "for name, idx in class_map.items():\n",
    "    class_names[idx] = name\n",
    "\n",
    "# Create dictionary for YAML\n",
    "data_yaml = {\n",
    "    'val': val_path.replace('\\\\', '/'),\n",
    "    'train': train_path.replace('\\\\', '/'),\n",
    "    'names': class_names,\n",
    "    'nc': len(class_map)\n",
    "}\n",
    "\n",
    "# Write to YAML\n",
    "with open('/sfs/weka/scratch/acg3wjm/DSProject3/SCRIPTS/images/data.yaml', 'w') as f:\n",
    "    yaml.dump(data_yaml, f, default_flow_style=False)"
   ]
  },
  {
   "cell_type": "code",
   "execution_count": 6,
   "id": "489b2cf8-be38-4550-97d0-f582b9fc52b0",
   "metadata": {
    "tags": []
   },
   "outputs": [],
   "source": [
    "from ultralytics import YOLO\n",
    "import os\n",
    "\n",
    "#os.chdir(r\"C:\\Users\\Brian\\.vscode\\DS4002-Project3\\DSProject3\\SCRIPTS\")\n",
    "\n",
    "#pretrained model\n",
    "model = YOLO(\"yolov8s.pt\")\n",
    "\n",
    "#data_path = os.path.abspath(\"data.yaml\")"
   ]
  },
  {
   "cell_type": "code",
   "execution_count": 24,
   "id": "8bfaa02e-6c24-4e82-b4a0-abb04c43cb80",
   "metadata": {
    "tags": []
   },
   "outputs": [
    {
     "name": "stdout",
     "output_type": "stream",
     "text": [
      "\u001b[33mWARNING: Skipping torch as it is not installed.\u001b[0m\u001b[33m\n",
      "\u001b[0mNote: you may need to restart the kernel to use updated packages.\n",
      "Defaulting to user installation because normal site-packages is not writeable\n",
      "Looking in indexes: https://download.pytorch.org/whl/cu121\n",
      "Collecting torch\n",
      "  Downloading https://download.pytorch.org/whl/cu121/torch-2.5.1%2Bcu121-cp311-cp311-linux_x86_64.whl (780.5 MB)\n",
      "\u001b[2K     \u001b[90m━━━━━━━━━━━━━━━━━━━━━━━━━━━━━━━━━━━━━━━\u001b[0m \u001b[32m780.5/780.5 MB\u001b[0m \u001b[31m7.3 MB/s\u001b[0m eta \u001b[36m0:00:00\u001b[0m00:01\u001b[0m00:01\u001b[0m\n",
      "\u001b[?25hRequirement already satisfied: torchvision in /home/acg3wjm/.local/lib/python3.11/site-packages (0.21.0)\n",
      "Collecting torchaudio\n",
      "  Using cached https://download.pytorch.org/whl/cu121/torchaudio-2.5.1%2Bcu121-cp311-cp311-linux_x86_64.whl (3.4 MB)\n",
      "Requirement already satisfied: filelock in /home/acg3wjm/.local/lib/python3.11/site-packages (from torch) (3.18.0)\n",
      "Requirement already satisfied: typing-extensions>=4.8.0 in /home/acg3wjm/.local/lib/python3.11/site-packages (from torch) (4.13.2)\n",
      "Requirement already satisfied: networkx in /home/acg3wjm/.local/lib/python3.11/site-packages (from torch) (3.4.2)\n",
      "Requirement already satisfied: jinja2 in /home/acg3wjm/.local/lib/python3.11/site-packages (from torch) (3.1.6)\n",
      "Requirement already satisfied: fsspec in /home/acg3wjm/.local/lib/python3.11/site-packages (from torch) (2025.3.2)\n",
      "Collecting nvidia-cuda-nvrtc-cu12==12.1.105 (from torch)\n",
      "  Downloading https://download.pytorch.org/whl/cu121/nvidia_cuda_nvrtc_cu12-12.1.105-py3-none-manylinux1_x86_64.whl (23.7 MB)\n",
      "\u001b[2K     \u001b[90m━━━━━━━━━━━━━━━━━━━━━━━━━━━━━━━━━━━━━━━━\u001b[0m \u001b[32m23.7/23.7 MB\u001b[0m \u001b[31m94.7 MB/s\u001b[0m eta \u001b[36m0:00:00\u001b[0m00:01\u001b[0m00:01\u001b[0m\n",
      "\u001b[?25hCollecting nvidia-cuda-runtime-cu12==12.1.105 (from torch)\n",
      "  Downloading https://download.pytorch.org/whl/cu121/nvidia_cuda_runtime_cu12-12.1.105-py3-none-manylinux1_x86_64.whl (823 kB)\n",
      "\u001b[2K     \u001b[90m━━━━━━━━━━━━━━━━━━━━━━━━━━━━━━━━━━━━━━\u001b[0m \u001b[32m823.6/823.6 kB\u001b[0m \u001b[31m29.3 MB/s\u001b[0m eta \u001b[36m0:00:00\u001b[0m\n",
      "\u001b[?25hCollecting nvidia-cuda-cupti-cu12==12.1.105 (from torch)\n",
      "  Downloading https://download.pytorch.org/whl/cu121/nvidia_cuda_cupti_cu12-12.1.105-py3-none-manylinux1_x86_64.whl (14.1 MB)\n",
      "\u001b[2K     \u001b[90m━━━━━━━━━━━━━━━━━━━━━━━━━━━━━━━━━━━━━━━\u001b[0m \u001b[32m14.1/14.1 MB\u001b[0m \u001b[31m134.9 MB/s\u001b[0m eta \u001b[36m0:00:00\u001b[0m00:01\u001b[0m00:01\u001b[0m\n",
      "\u001b[?25hRequirement already satisfied: nvidia-cudnn-cu12==9.1.0.70 in /home/acg3wjm/.local/lib/python3.11/site-packages (from torch) (9.1.0.70)\n",
      "Collecting nvidia-cublas-cu12==12.1.3.1 (from torch)\n",
      "  Downloading https://download.pytorch.org/whl/cu121/nvidia_cublas_cu12-12.1.3.1-py3-none-manylinux1_x86_64.whl (410.6 MB)\n",
      "\u001b[2K     \u001b[90m━━━━━━━━━━━━━━━━━━━━━━━━━━━━━━━━━━━━━━━\u001b[0m \u001b[32m410.6/410.6 MB\u001b[0m \u001b[31m9.1 MB/s\u001b[0m eta \u001b[36m0:00:00\u001b[0m00:01\u001b[0m00:01\u001b[0m\n",
      "\u001b[?25hCollecting nvidia-cufft-cu12==11.0.2.54 (from torch)\n",
      "  Downloading https://download.pytorch.org/whl/cu121/nvidia_cufft_cu12-11.0.2.54-py3-none-manylinux1_x86_64.whl (121.6 MB)\n",
      "\u001b[2K     \u001b[90m━━━━━━━━━━━━━━━━━━━━━━━━━━━━━━━━━━━━━━\u001b[0m \u001b[32m121.6/121.6 MB\u001b[0m \u001b[31m42.0 MB/s\u001b[0m eta \u001b[36m0:00:00\u001b[0m00:01\u001b[0m00:01\u001b[0m\n",
      "\u001b[?25hCollecting nvidia-curand-cu12==10.3.2.106 (from torch)\n",
      "  Downloading https://download.pytorch.org/whl/cu121/nvidia_curand_cu12-10.3.2.106-py3-none-manylinux1_x86_64.whl (56.5 MB)\n",
      "\u001b[2K     \u001b[90m━━━━━━━━━━━━━━━━━━━━━━━━━━━━━━━━━━━━━━━━\u001b[0m \u001b[32m56.5/56.5 MB\u001b[0m \u001b[31m30.7 MB/s\u001b[0m eta \u001b[36m0:00:00\u001b[0m00:01\u001b[0m00:01\u001b[0m\n",
      "\u001b[?25hCollecting nvidia-cusolver-cu12==11.4.5.107 (from torch)\n",
      "  Downloading https://download.pytorch.org/whl/cu121/nvidia_cusolver_cu12-11.4.5.107-py3-none-manylinux1_x86_64.whl (124.2 MB)\n",
      "\u001b[2K     \u001b[90m━━━━━━━━━━━━━━━━━━━━━━━━━━━━━━━━━━━━━━\u001b[0m \u001b[32m124.2/124.2 MB\u001b[0m \u001b[31m30.9 MB/s\u001b[0m eta \u001b[36m0:00:00\u001b[0m00:01\u001b[0m00:01\u001b[0m\n",
      "\u001b[?25hCollecting nvidia-cusparse-cu12==12.1.0.106 (from torch)\n",
      "  Downloading https://download.pytorch.org/whl/cu121/nvidia_cusparse_cu12-12.1.0.106-py3-none-manylinux1_x86_64.whl (196.0 MB)\n",
      "\u001b[2K     \u001b[90m━━━━━━━━━━━━━━━━━━━━━━━━━━━━━━━━━━━━━━\u001b[0m \u001b[32m196.0/196.0 MB\u001b[0m \u001b[31m27.5 MB/s\u001b[0m eta \u001b[36m0:00:00\u001b[0m00:01\u001b[0m00:01\u001b[0m\n",
      "\u001b[?25hRequirement already satisfied: nvidia-nccl-cu12==2.21.5 in /home/acg3wjm/.local/lib/python3.11/site-packages (from torch) (2.21.5)\n",
      "Collecting nvidia-nvtx-cu12==12.1.105 (from torch)\n",
      "  Downloading https://download.pytorch.org/whl/cu121/nvidia_nvtx_cu12-12.1.105-py3-none-manylinux1_x86_64.whl (99 kB)\n",
      "\u001b[2K     \u001b[90m━━━━━━━━━━━━━━━━━━━━━━━━━━━━━━━━━━━━━━━━\u001b[0m \u001b[32m99.1/99.1 kB\u001b[0m \u001b[31m29.2 MB/s\u001b[0m eta \u001b[36m0:00:00\u001b[0m\n",
      "\u001b[?25hCollecting triton==3.1.0 (from torch)\n",
      "  Downloading https://download.pytorch.org/whl/triton-3.1.0-cp311-cp311-manylinux_2_17_x86_64.manylinux2014_x86_64.whl (209.5 MB)\n",
      "\u001b[2K     \u001b[90m━━━━━━━━━━━━━━━━━━━━━━━━━━━━━━━━━━━━━━\u001b[0m \u001b[32m209.5/209.5 MB\u001b[0m \u001b[31m16.9 MB/s\u001b[0m eta \u001b[36m0:00:00\u001b[0m00:01\u001b[0m00:01\u001b[0m\n",
      "\u001b[?25hRequirement already satisfied: sympy==1.13.1 in /home/acg3wjm/.local/lib/python3.11/site-packages (from torch) (1.13.1)\n",
      "Requirement already satisfied: nvidia-nvjitlink-cu12 in /home/acg3wjm/.local/lib/python3.11/site-packages (from nvidia-cusolver-cu12==11.4.5.107->torch) (12.4.127)\n",
      "Requirement already satisfied: mpmath<1.4,>=1.1.0 in /home/acg3wjm/.local/lib/python3.11/site-packages (from sympy==1.13.1->torch) (1.3.0)\n",
      "Requirement already satisfied: numpy in /home/acg3wjm/.local/lib/python3.11/site-packages (from torchvision) (1.26.4)\n",
      "INFO: pip is looking at multiple versions of torchvision to determine which version is compatible with other requirements. This could take a while.\n",
      "Collecting torchvision\n",
      "  Downloading https://download.pytorch.org/whl/cu121/torchvision-0.20.1%2Bcu121-cp311-cp311-linux_x86_64.whl (7.3 MB)\n",
      "\u001b[2K     \u001b[90m━━━━━━━━━━━━━━━━━━━━━━━━━━━━━━━━━━━━━━━━\u001b[0m \u001b[32m7.3/7.3 MB\u001b[0m \u001b[31m102.8 MB/s\u001b[0m eta \u001b[36m0:00:00\u001b[0m00:01\u001b[0m\n",
      "\u001b[?25hRequirement already satisfied: pillow!=8.3.*,>=5.3.0 in /home/acg3wjm/.local/lib/python3.11/site-packages (from torchvision) (11.2.1)\n",
      "Requirement already satisfied: MarkupSafe>=2.0 in /home/acg3wjm/.local/lib/python3.11/site-packages (from jinja2->torch) (3.0.2)\n",
      "Installing collected packages: triton, nvidia-nvtx-cu12, nvidia-cusparse-cu12, nvidia-curand-cu12, nvidia-cufft-cu12, nvidia-cuda-runtime-cu12, nvidia-cuda-nvrtc-cu12, nvidia-cuda-cupti-cu12, nvidia-cublas-cu12, nvidia-cusolver-cu12, torch, torchvision, torchaudio\n",
      "  Attempting uninstall: triton\n",
      "    Found existing installation: triton 3.2.0\n",
      "    Uninstalling triton-3.2.0:\n",
      "      Successfully uninstalled triton-3.2.0\n",
      "\u001b[33m  WARNING: The scripts proton and proton-viewer are installed in '/home/acg3wjm/.local/bin' which is not on PATH.\n",
      "  Consider adding this directory to PATH or, if you prefer to suppress this warning, use --no-warn-script-location.\u001b[0m\u001b[33m\n",
      "\u001b[0m  Attempting uninstall: nvidia-nvtx-cu12\n",
      "    Found existing installation: nvidia-nvtx-cu12 12.4.127\n",
      "    Uninstalling nvidia-nvtx-cu12-12.4.127:\n",
      "      Successfully uninstalled nvidia-nvtx-cu12-12.4.127\n",
      "  Attempting uninstall: nvidia-cusparse-cu12\n",
      "    Found existing installation: nvidia-cusparse-cu12 12.3.1.170\n",
      "    Uninstalling nvidia-cusparse-cu12-12.3.1.170:\n",
      "      Successfully uninstalled nvidia-cusparse-cu12-12.3.1.170\n",
      "  Attempting uninstall: nvidia-curand-cu12\n",
      "    Found existing installation: nvidia-curand-cu12 10.3.5.147\n",
      "    Uninstalling nvidia-curand-cu12-10.3.5.147:\n",
      "      Successfully uninstalled nvidia-curand-cu12-10.3.5.147\n",
      "  Attempting uninstall: nvidia-cufft-cu12\n",
      "    Found existing installation: nvidia-cufft-cu12 11.2.1.3\n",
      "    Uninstalling nvidia-cufft-cu12-11.2.1.3:\n",
      "      Successfully uninstalled nvidia-cufft-cu12-11.2.1.3\n",
      "  Attempting uninstall: nvidia-cuda-runtime-cu12\n",
      "    Found existing installation: nvidia-cuda-runtime-cu12 12.4.127\n",
      "    Uninstalling nvidia-cuda-runtime-cu12-12.4.127:\n",
      "      Successfully uninstalled nvidia-cuda-runtime-cu12-12.4.127\n",
      "  Attempting uninstall: nvidia-cuda-nvrtc-cu12\n",
      "    Found existing installation: nvidia-cuda-nvrtc-cu12 12.4.127\n",
      "    Uninstalling nvidia-cuda-nvrtc-cu12-12.4.127:\n",
      "      Successfully uninstalled nvidia-cuda-nvrtc-cu12-12.4.127\n",
      "  Attempting uninstall: nvidia-cuda-cupti-cu12\n",
      "    Found existing installation: nvidia-cuda-cupti-cu12 12.4.127\n",
      "    Uninstalling nvidia-cuda-cupti-cu12-12.4.127:\n",
      "      Successfully uninstalled nvidia-cuda-cupti-cu12-12.4.127\n",
      "  Attempting uninstall: nvidia-cublas-cu12\n",
      "    Found existing installation: nvidia-cublas-cu12 12.4.5.8\n",
      "    Uninstalling nvidia-cublas-cu12-12.4.5.8:\n",
      "      Successfully uninstalled nvidia-cublas-cu12-12.4.5.8\n",
      "  Attempting uninstall: nvidia-cusolver-cu12\n",
      "    Found existing installation: nvidia-cusolver-cu12 11.6.1.9\n",
      "    Uninstalling nvidia-cusolver-cu12-11.6.1.9:\n",
      "      Successfully uninstalled nvidia-cusolver-cu12-11.6.1.9\n",
      "\u001b[33m  WARNING: The scripts convert-caffe2-to-onnx, convert-onnx-to-caffe2, torchfrtrace and torchrun are installed in '/home/acg3wjm/.local/bin' which is not on PATH.\n",
      "  Consider adding this directory to PATH or, if you prefer to suppress this warning, use --no-warn-script-location.\u001b[0m\u001b[33m\n",
      "\u001b[0m  Attempting uninstall: torchvision\n",
      "    Found existing installation: torchvision 0.21.0\n",
      "    Uninstalling torchvision-0.21.0:\n",
      "      Successfully uninstalled torchvision-0.21.0\n",
      "Successfully installed nvidia-cublas-cu12-12.1.3.1 nvidia-cuda-cupti-cu12-12.1.105 nvidia-cuda-nvrtc-cu12-12.1.105 nvidia-cuda-runtime-cu12-12.1.105 nvidia-cufft-cu12-11.0.2.54 nvidia-curand-cu12-10.3.2.106 nvidia-cusolver-cu12-11.4.5.107 nvidia-cusparse-cu12-12.1.0.106 nvidia-nvtx-cu12-12.1.105 torch-2.5.1+cu121 torchaudio-2.5.1+cu121 torchvision-0.20.1+cu121 triton-3.1.0\n",
      "Note: you may need to restart the kernel to use updated packages.\n"
     ]
    }
   ],
   "source": [
    "%pip uninstall -y torch\n",
    "%pip install torch torchvision torchaudio --index-url https://download.pytorch.org/whl/cu121"
   ]
  },
  {
   "cell_type": "code",
   "execution_count": null,
   "id": "4725dd04-5feb-4088-9f20-b97ed0eb6a3b",
   "metadata": {},
   "outputs": [],
   "source": []
  },
  {
   "cell_type": "code",
   "execution_count": 7,
   "id": "8f6ec3af-6868-4b79-bc4d-5b1a8d35f250",
   "metadata": {
    "tags": []
   },
   "outputs": [
    {
     "name": "stdout",
     "output_type": "stream",
     "text": [
      "Ultralytics 8.3.111 🚀 Python-3.11.4 torch-2.5.1+cu121 CUDA:0 (Tesla V100-SXM2-32GB, 32494MiB)\n",
      "\u001b[34m\u001b[1mengine/trainer: \u001b[0mtask=detect, mode=train, model=yolov8s.pt, data=/sfs/weka/scratch/acg3wjm/DSProject3/SCRIPTS/images/data.yaml, epochs=50, time=None, patience=100, batch=16, imgsz=640, save=True, save_period=-1, cache=False, device=0, workers=4, project=/sfs/weka/scratch/acg3wjm/DSProject3/runs, name=fishnet_yolov8, exist_ok=True, pretrained=True, optimizer=auto, verbose=True, seed=0, deterministic=True, single_cls=False, rect=False, cos_lr=False, close_mosaic=10, resume=False, amp=True, fraction=1.0, profile=False, freeze=None, multi_scale=False, overlap_mask=True, mask_ratio=4, dropout=0.0, val=True, split=val, save_json=False, conf=None, iou=0.7, max_det=300, half=False, dnn=False, plots=True, source=None, vid_stride=1, stream_buffer=False, visualize=False, augment=False, agnostic_nms=False, classes=None, retina_masks=False, embed=None, show=False, save_frames=False, save_txt=False, save_conf=False, save_crop=False, show_labels=True, show_conf=True, show_boxes=True, line_width=None, format=torchscript, keras=False, optimize=False, int8=False, dynamic=False, simplify=True, opset=None, workspace=None, nms=False, lr0=0.01, lrf=0.01, momentum=0.937, weight_decay=0.0005, warmup_epochs=3.0, warmup_momentum=0.8, warmup_bias_lr=0.1, box=7.5, cls=0.5, dfl=1.5, pose=12.0, kobj=1.0, nbs=64, hsv_h=0.015, hsv_s=0.7, hsv_v=0.4, degrees=0.0, translate=0.1, scale=0.5, shear=0.0, perspective=0.0, flipud=0.0, fliplr=0.5, bgr=0.0, mosaic=1.0, mixup=0.0, copy_paste=0.0, copy_paste_mode=flip, auto_augment=randaugment, erasing=0.4, cfg=None, tracker=botsort.yaml, save_dir=/sfs/weka/scratch/acg3wjm/DSProject3/runs/fishnet_yolov8\n",
      "Overriding model.yaml nc=80 with nc=28\n",
      "\n",
      "                   from  n    params  module                                       arguments                     \n",
      "  0                  -1  1       928  ultralytics.nn.modules.conv.Conv             [3, 32, 3, 2]                 \n",
      "  1                  -1  1     18560  ultralytics.nn.modules.conv.Conv             [32, 64, 3, 2]                \n",
      "  2                  -1  1     29056  ultralytics.nn.modules.block.C2f             [64, 64, 1, True]             \n",
      "  3                  -1  1     73984  ultralytics.nn.modules.conv.Conv             [64, 128, 3, 2]               \n",
      "  4                  -1  2    197632  ultralytics.nn.modules.block.C2f             [128, 128, 2, True]           \n",
      "  5                  -1  1    295424  ultralytics.nn.modules.conv.Conv             [128, 256, 3, 2]              \n",
      "  6                  -1  2    788480  ultralytics.nn.modules.block.C2f             [256, 256, 2, True]           \n",
      "  7                  -1  1   1180672  ultralytics.nn.modules.conv.Conv             [256, 512, 3, 2]              \n",
      "  8                  -1  1   1838080  ultralytics.nn.modules.block.C2f             [512, 512, 1, True]           \n",
      "  9                  -1  1    656896  ultralytics.nn.modules.block.SPPF            [512, 512, 5]                 \n",
      " 10                  -1  1         0  torch.nn.modules.upsampling.Upsample         [None, 2, 'nearest']          \n",
      " 11             [-1, 6]  1         0  ultralytics.nn.modules.conv.Concat           [1]                           \n",
      " 12                  -1  1    591360  ultralytics.nn.modules.block.C2f             [768, 256, 1]                 \n",
      " 13                  -1  1         0  torch.nn.modules.upsampling.Upsample         [None, 2, 'nearest']          \n",
      " 14             [-1, 4]  1         0  ultralytics.nn.modules.conv.Concat           [1]                           \n",
      " 15                  -1  1    148224  ultralytics.nn.modules.block.C2f             [384, 128, 1]                 \n",
      " 16                  -1  1    147712  ultralytics.nn.modules.conv.Conv             [128, 128, 3, 2]              \n",
      " 17            [-1, 12]  1         0  ultralytics.nn.modules.conv.Concat           [1]                           \n",
      " 18                  -1  1    493056  ultralytics.nn.modules.block.C2f             [384, 256, 1]                 \n",
      " 19                  -1  1    590336  ultralytics.nn.modules.conv.Conv             [256, 256, 3, 2]              \n",
      " 20             [-1, 9]  1         0  ultralytics.nn.modules.conv.Concat           [1]                           \n",
      " 21                  -1  1   1969152  ultralytics.nn.modules.block.C2f             [768, 512, 1]                 \n",
      " 22        [15, 18, 21]  1   2126884  ultralytics.nn.modules.head.Detect           [28, [128, 256, 512]]         \n",
      "Model summary: 129 layers, 11,146,436 parameters, 11,146,420 gradients, 28.7 GFLOPs\n",
      "\n",
      "Transferred 349/355 items from pretrained weights\n",
      "Freezing layer 'model.22.dfl.conv.weight'\n",
      "\u001b[34m\u001b[1mAMP: \u001b[0mrunning Automatic Mixed Precision (AMP) checks...\n",
      "\u001b[34m\u001b[1mAMP: \u001b[0mchecks passed ✅\n",
      "\u001b[34m\u001b[1mtrain: \u001b[0mFast image access ✅ (ping: 0.0±0.0 ms, read: 243.7±178.4 MB/s, size: 111.3 KB)\n"
     ]
    },
    {
     "name": "stderr",
     "output_type": "stream",
     "text": [
      "\u001b[34m\u001b[1mtrain: \u001b[0mScanning /sfs/weka/scratch/acg3wjm/DSProject3/SCRIPTS/labels/train.cache... 1642 images, 415 backgrounds, 106 corrupt: 100%|██████████| 2057/2057 [00:00<?, ?it/s]"
     ]
    },
    {
     "name": "stdout",
     "output_type": "stream",
     "text": [
      "\u001b[34m\u001b[1mtrain: \u001b[0mWARNING ⚠️ /sfs/weka/scratch/acg3wjm/DSProject3/SCRIPTS/images/train/94f61b32-23f0-11e9-b8a2-c31594a9d38f.jpg: ignoring corrupt image/label: non-normalized or out of bounds coordinates [     1.1496]\n",
      "\u001b[34m\u001b[1mtrain: \u001b[0mWARNING ⚠️ /sfs/weka/scratch/acg3wjm/DSProject3/SCRIPTS/images/train/94f61baa-23f0-11e9-b8a3-17add2042905.jpg: ignoring corrupt image/label: non-normalized or out of bounds coordinates [     1.1492]\n",
      "\u001b[34m\u001b[1mtrain: \u001b[0mWARNING ⚠️ /sfs/weka/scratch/acg3wjm/DSProject3/SCRIPTS/images/train/94f61c2c-23f0-11e9-b8a4-4bc41fae21d8.jpg: ignoring corrupt image/label: non-normalized or out of bounds coordinates [      1.118]\n",
      "\u001b[34m\u001b[1mtrain: \u001b[0mWARNING ⚠️ /sfs/weka/scratch/acg3wjm/DSProject3/SCRIPTS/images/train/94f61eac-23f0-11e9-b8a5-4f1fad99488d.jpg: ignoring corrupt image/label: non-normalized or out of bounds coordinates [     1.1477]\n",
      "\u001b[34m\u001b[1mtrain: \u001b[0mWARNING ⚠️ /sfs/weka/scratch/acg3wjm/DSProject3/SCRIPTS/images/train/94f61f38-23f0-11e9-b8a6-4fff68f4a587.jpg: ignoring corrupt image/label: non-normalized or out of bounds coordinates [     1.1437]\n",
      "\u001b[34m\u001b[1mtrain: \u001b[0mWARNING ⚠️ /sfs/weka/scratch/acg3wjm/DSProject3/SCRIPTS/images/train/94f61fa6-23f0-11e9-b8a7-2f484c425f3a.jpg: ignoring corrupt image/label: non-normalized or out of bounds coordinates [       1.15]\n",
      "\u001b[34m\u001b[1mtrain: \u001b[0mWARNING ⚠️ /sfs/weka/scratch/acg3wjm/DSProject3/SCRIPTS/images/train/94f62082-23f0-11e9-b8a9-1723e5dc900c.jpg: ignoring corrupt image/label: non-normalized or out of bounds coordinates [     1.1504]\n",
      "\u001b[34m\u001b[1mtrain: \u001b[0mWARNING ⚠️ /sfs/weka/scratch/acg3wjm/DSProject3/SCRIPTS/images/train/94f620f0-23f0-11e9-b8aa-db4dcd3f8a0e.jpg: ignoring corrupt image/label: non-normalized or out of bounds coordinates [     1.1488]\n",
      "\u001b[34m\u001b[1mtrain: \u001b[0mWARNING ⚠️ /sfs/weka/scratch/acg3wjm/DSProject3/SCRIPTS/images/train/94f6215e-23f0-11e9-b8ab-bb4d7e720d62.jpg: ignoring corrupt image/label: non-normalized or out of bounds coordinates [     1.1504]\n",
      "\u001b[34m\u001b[1mtrain: \u001b[0mWARNING ⚠️ /sfs/weka/scratch/acg3wjm/DSProject3/SCRIPTS/images/train/94f621cc-23f0-11e9-b8ac-173b8ea919d0.jpg: ignoring corrupt image/label: non-normalized or out of bounds coordinates [     1.0215      1.1465]\n",
      "\u001b[34m\u001b[1mtrain: \u001b[0mWARNING ⚠️ /sfs/weka/scratch/acg3wjm/DSProject3/SCRIPTS/images/train/94f622a8-23f0-11e9-b8ae-4f9d399a01b2.jpg: ignoring corrupt image/label: non-normalized or out of bounds coordinates [     1.1477      1.0816]\n",
      "\u001b[34m\u001b[1mtrain: \u001b[0mWARNING ⚠️ /sfs/weka/scratch/acg3wjm/DSProject3/SCRIPTS/images/train/94f62316-23f0-11e9-b8af-d732db76c467.jpg: ignoring corrupt image/label: non-normalized or out of bounds coordinates [     1.0887      1.1484]\n",
      "\u001b[34m\u001b[1mtrain: \u001b[0mWARNING ⚠️ /sfs/weka/scratch/acg3wjm/DSProject3/SCRIPTS/images/train/94f624c4-23f0-11e9-b8b3-2bb823532d28.jpg: ignoring corrupt image/label: non-normalized or out of bounds coordinates [     1.1473      1.1082]\n",
      "\u001b[34m\u001b[1mtrain: \u001b[0mWARNING ⚠️ /sfs/weka/scratch/acg3wjm/DSProject3/SCRIPTS/images/train/94f62532-23f0-11e9-b8b4-e781e3a9f5c9.jpg: ignoring corrupt image/label: non-normalized or out of bounds coordinates [     1.1066      1.1469]\n",
      "\u001b[34m\u001b[1mtrain: \u001b[0mWARNING ⚠️ /sfs/weka/scratch/acg3wjm/DSProject3/SCRIPTS/images/train/94f625a0-23f0-11e9-b8b5-a3218491b582.jpg: ignoring corrupt image/label: non-normalized or out of bounds coordinates [     1.1066       1.148]\n",
      "\u001b[34m\u001b[1mtrain: \u001b[0mWARNING ⚠️ /sfs/weka/scratch/acg3wjm/DSProject3/SCRIPTS/images/train/94f62604-23f0-11e9-b8b6-339fd5764e34.jpg: ignoring corrupt image/label: non-normalized or out of bounds coordinates [     1.1473      1.1102]\n",
      "\u001b[34m\u001b[1mtrain: \u001b[0mWARNING ⚠️ /sfs/weka/scratch/acg3wjm/DSProject3/SCRIPTS/images/train/94f62672-23f0-11e9-b8b7-c7e1b4a43f1f.jpg: ignoring corrupt image/label: non-normalized or out of bounds coordinates [     1.1492       1.118]\n",
      "\u001b[34m\u001b[1mtrain: \u001b[0mWARNING ⚠️ /sfs/weka/scratch/acg3wjm/DSProject3/SCRIPTS/images/train/94f627b2-23f0-11e9-b8ba-c79629199c16.jpg: ignoring corrupt image/label: non-normalized or out of bounds coordinates [     1.1414      1.1473]\n",
      "\u001b[34m\u001b[1mtrain: \u001b[0mWARNING ⚠️ /sfs/weka/scratch/acg3wjm/DSProject3/SCRIPTS/images/train/94f62820-23f0-11e9-b8bb-3b8b8f9a8609.jpg: ignoring corrupt image/label: non-normalized or out of bounds coordinates [     1.1434      1.1449]\n",
      "\u001b[34m\u001b[1mtrain: \u001b[0mWARNING ⚠️ /sfs/weka/scratch/acg3wjm/DSProject3/SCRIPTS/images/train/94f6288e-23f0-11e9-b8bc-ab820876ee94.jpg: ignoring corrupt image/label: non-normalized or out of bounds coordinates [     1.1492      1.1449]\n",
      "\u001b[34m\u001b[1mtrain: \u001b[0mWARNING ⚠️ /sfs/weka/scratch/acg3wjm/DSProject3/SCRIPTS/images/train/94f628fc-23f0-11e9-b8bd-1f9d1030a1fe.jpg: ignoring corrupt image/label: non-normalized or out of bounds coordinates [     1.1453]\n",
      "\u001b[34m\u001b[1mtrain: \u001b[0mWARNING ⚠️ /sfs/weka/scratch/acg3wjm/DSProject3/SCRIPTS/images/train/94f6296a-23f0-11e9-b8be-d3e9d55fa708.jpg: ignoring corrupt image/label: non-normalized or out of bounds coordinates [     1.1441]\n",
      "\u001b[34m\u001b[1mtrain: \u001b[0mWARNING ⚠️ /sfs/weka/scratch/acg3wjm/DSProject3/SCRIPTS/images/train/94f629e2-23f0-11e9-b8bf-eb2d259c6121.jpg: ignoring corrupt image/label: non-normalized or out of bounds coordinates [     1.1477]\n",
      "\u001b[34m\u001b[1mtrain: \u001b[0mWARNING ⚠️ /sfs/weka/scratch/acg3wjm/DSProject3/SCRIPTS/images/train/94f62ad2-23f0-11e9-b8c1-b7feaa2493fd.jpg: ignoring corrupt image/label: non-normalized or out of bounds coordinates [     1.1504]\n",
      "\u001b[34m\u001b[1mtrain: \u001b[0mWARNING ⚠️ /sfs/weka/scratch/acg3wjm/DSProject3/SCRIPTS/images/train/94f64440-23f0-11e9-b8c2-7f565e3d9ee4.jpg: ignoring corrupt image/label: non-normalized or out of bounds coordinates [     1.1559]\n",
      "\u001b[34m\u001b[1mtrain: \u001b[0mWARNING ⚠️ /sfs/weka/scratch/acg3wjm/DSProject3/SCRIPTS/images/train/94f64558-23f0-11e9-b8c3-43ecedd0c55d.jpg: ignoring corrupt image/label: non-normalized or out of bounds coordinates [      1.159]\n",
      "\u001b[34m\u001b[1mtrain: \u001b[0mWARNING ⚠️ /sfs/weka/scratch/acg3wjm/DSProject3/SCRIPTS/images/train/94f64652-23f0-11e9-b8c5-e7bf5c03ea7d.jpg: ignoring corrupt image/label: non-normalized or out of bounds coordinates [     1.1469]\n",
      "\u001b[34m\u001b[1mtrain: \u001b[0mWARNING ⚠️ /sfs/weka/scratch/acg3wjm/DSProject3/SCRIPTS/images/train/94f646c0-23f0-11e9-b8c6-af816da85bb7.jpg: ignoring corrupt image/label: non-normalized or out of bounds coordinates [     1.1488]\n",
      "\u001b[34m\u001b[1mtrain: \u001b[0mWARNING ⚠️ /sfs/weka/scratch/acg3wjm/DSProject3/SCRIPTS/images/train/94f6472e-23f0-11e9-b8c7-8b19b33debcd.jpg: ignoring corrupt image/label: non-normalized or out of bounds coordinates [     1.1492]\n",
      "\u001b[34m\u001b[1mtrain: \u001b[0mWARNING ⚠️ /sfs/weka/scratch/acg3wjm/DSProject3/SCRIPTS/images/train/94f6481e-23f0-11e9-b8c9-eb8fd2752c87.jpg: ignoring corrupt image/label: non-normalized or out of bounds coordinates [     1.1449]\n",
      "\u001b[34m\u001b[1mtrain: \u001b[0mWARNING ⚠️ /sfs/weka/scratch/acg3wjm/DSProject3/SCRIPTS/images/train/94f648e6-23f0-11e9-b8ca-5bb5404bf889.jpg: ignoring corrupt image/label: non-normalized or out of bounds coordinates [     1.1383]\n",
      "\u001b[34m\u001b[1mtrain: \u001b[0mWARNING ⚠️ /sfs/weka/scratch/acg3wjm/DSProject3/SCRIPTS/images/train/94f6495e-23f0-11e9-b8cb-970006cc5bc6.jpg: ignoring corrupt image/label: non-normalized or out of bounds coordinates [     1.1387]\n",
      "\u001b[34m\u001b[1mtrain: \u001b[0mWARNING ⚠️ /sfs/weka/scratch/acg3wjm/DSProject3/SCRIPTS/images/train/94f649d6-23f0-11e9-b8cc-139592391251.jpg: ignoring corrupt image/label: non-normalized or out of bounds coordinates [     1.1465]\n",
      "\u001b[34m\u001b[1mtrain: \u001b[0mWARNING ⚠️ /sfs/weka/scratch/acg3wjm/DSProject3/SCRIPTS/images/train/94f64a44-23f0-11e9-b8cd-236292c4e0be.jpg: ignoring corrupt image/label: non-normalized or out of bounds coordinates [     1.1379]\n",
      "\u001b[34m\u001b[1mtrain: \u001b[0mWARNING ⚠️ /sfs/weka/scratch/acg3wjm/DSProject3/SCRIPTS/images/train/94f64ba2-23f0-11e9-b8d0-632f8fa93f9c.jpg: ignoring corrupt image/label: non-normalized or out of bounds coordinates [     1.1172]\n",
      "\u001b[34m\u001b[1mtrain: \u001b[0mWARNING ⚠️ /sfs/weka/scratch/acg3wjm/DSProject3/SCRIPTS/images/train/94f64c7e-23f0-11e9-b8d2-6730f9a2aaa6.jpg: ignoring corrupt image/label: non-normalized or out of bounds coordinates [     1.1223]\n",
      "\u001b[34m\u001b[1mtrain: \u001b[0mWARNING ⚠️ /sfs/weka/scratch/acg3wjm/DSProject3/SCRIPTS/images/train/94f64dd2-23f0-11e9-b8d5-1ba4e064fe23.jpg: ignoring corrupt image/label: non-normalized or out of bounds coordinates [     1.1426]\n",
      "\u001b[34m\u001b[1mtrain: \u001b[0mWARNING ⚠️ /sfs/weka/scratch/acg3wjm/DSProject3/SCRIPTS/images/train/94f64e4a-23f0-11e9-b8d6-e37bd4555de7.jpg: ignoring corrupt image/label: non-normalized or out of bounds coordinates [     1.1398]\n",
      "\u001b[34m\u001b[1mtrain: \u001b[0mWARNING ⚠️ /sfs/weka/scratch/acg3wjm/DSProject3/SCRIPTS/images/train/94f64f26-23f0-11e9-b8d8-033fa1912fdc.jpg: ignoring corrupt image/label: non-normalized or out of bounds coordinates [     1.3523       1.053]\n",
      "\u001b[34m\u001b[1mtrain: \u001b[0mWARNING ⚠️ /sfs/weka/scratch/acg3wjm/DSProject3/SCRIPTS/images/train/94f64f94-23f0-11e9-b8d9-0faece75ba14.jpg: ignoring corrupt image/label: non-normalized or out of bounds coordinates [     1.3523       1.053]\n",
      "\u001b[34m\u001b[1mtrain: \u001b[0mWARNING ⚠️ /sfs/weka/scratch/acg3wjm/DSProject3/SCRIPTS/images/train/94f650ca-23f0-11e9-b8dc-ebffaf928264.jpg: ignoring corrupt image/label: non-normalized or out of bounds coordinates [      1.053]\n",
      "\u001b[34m\u001b[1mtrain: \u001b[0mWARNING ⚠️ /sfs/weka/scratch/acg3wjm/DSProject3/SCRIPTS/images/train/94f651a6-23f0-11e9-b8de-c35ce1adf2ff.jpg: ignoring corrupt image/label: non-normalized or out of bounds coordinates [     1.1148      1.1426]\n",
      "\u001b[34m\u001b[1mtrain: \u001b[0mWARNING ⚠️ /sfs/weka/scratch/acg3wjm/DSProject3/SCRIPTS/images/train/94f653d6-23f0-11e9-b8df-bbf59abfdf87.jpg: ignoring corrupt image/label: non-normalized or out of bounds coordinates [      1.118       1.143]\n",
      "\u001b[34m\u001b[1mtrain: \u001b[0mWARNING ⚠️ /sfs/weka/scratch/acg3wjm/DSProject3/SCRIPTS/images/train/94f65462-23f0-11e9-b8e0-4fe841db0f5f.jpg: ignoring corrupt image/label: non-normalized or out of bounds coordinates [     1.1426      1.1066]\n",
      "\u001b[34m\u001b[1mtrain: \u001b[0mWARNING ⚠️ /sfs/weka/scratch/acg3wjm/DSProject3/SCRIPTS/images/train/94f654d0-23f0-11e9-b8e1-473cee4a8d63.jpg: ignoring corrupt image/label: non-normalized or out of bounds coordinates [     1.1254      1.1422]\n",
      "\u001b[34m\u001b[1mtrain: \u001b[0mWARNING ⚠️ /sfs/weka/scratch/acg3wjm/DSProject3/SCRIPTS/images/train/94f6643e-23f0-11e9-b8e3-03fd4b0240a7.jpg: ignoring corrupt image/label: non-normalized or out of bounds coordinates [     1.0934      1.1406]\n",
      "\u001b[34m\u001b[1mtrain: \u001b[0mWARNING ⚠️ /sfs/weka/scratch/acg3wjm/DSProject3/SCRIPTS/images/train/94f66542-23f0-11e9-b8e4-0f521bf82590.jpg: ignoring corrupt image/label: non-normalized or out of bounds coordinates [     1.1402      1.0973]\n",
      "\u001b[34m\u001b[1mtrain: \u001b[0mWARNING ⚠️ /sfs/weka/scratch/acg3wjm/DSProject3/SCRIPTS/images/train/94f666a0-23f0-11e9-b8e7-3f2f960896cf.jpg: ignoring corrupt image/label: non-normalized or out of bounds coordinates [     1.1172       1.143]\n",
      "\u001b[34m\u001b[1mtrain: \u001b[0mWARNING ⚠️ /sfs/weka/scratch/acg3wjm/DSProject3/SCRIPTS/images/train/94f6677c-23f0-11e9-b8e9-9b3ae1c5d3e0.jpg: ignoring corrupt image/label: non-normalized or out of bounds coordinates [     1.1449      1.1137]\n",
      "\u001b[34m\u001b[1mtrain: \u001b[0mWARNING ⚠️ /sfs/weka/scratch/acg3wjm/DSProject3/SCRIPTS/images/train/94f668c6-23f0-11e9-b8ec-6bc6f95f1686.jpg: ignoring corrupt image/label: non-normalized or out of bounds coordinates [     1.1453      1.1078]\n",
      "\u001b[34m\u001b[1mtrain: \u001b[0mWARNING ⚠️ /sfs/weka/scratch/acg3wjm/DSProject3/SCRIPTS/images/train/94f66934-23f0-11e9-b8ed-f3cc69c24a99.jpg: ignoring corrupt image/label: non-normalized or out of bounds coordinates [     1.0984      1.1441]\n",
      "\u001b[34m\u001b[1mtrain: \u001b[0mWARNING ⚠️ /sfs/weka/scratch/acg3wjm/DSProject3/SCRIPTS/images/train/94f66a10-23f0-11e9-b8ef-27e25f671120.jpg: ignoring corrupt image/label: non-normalized or out of bounds coordinates [     1.1187]\n",
      "\u001b[34m\u001b[1mtrain: \u001b[0mWARNING ⚠️ /sfs/weka/scratch/acg3wjm/DSProject3/SCRIPTS/images/train/94f66af6-23f0-11e9-b8f1-ffbb44373aea.jpg: ignoring corrupt image/label: non-normalized or out of bounds coordinates [     1.0602      1.0891]\n",
      "\u001b[34m\u001b[1mtrain: \u001b[0mWARNING ⚠️ /sfs/weka/scratch/acg3wjm/DSProject3/SCRIPTS/images/train/94f66b6e-23f0-11e9-b8f2-8f2cf0bc7318.jpg: ignoring corrupt image/label: non-normalized or out of bounds coordinates [     1.0812      1.0629]\n",
      "\u001b[34m\u001b[1mtrain: \u001b[0mWARNING ⚠️ /sfs/weka/scratch/acg3wjm/DSProject3/SCRIPTS/images/train/94f66be6-23f0-11e9-b8f3-27f25f6cd069.jpg: ignoring corrupt image/label: non-normalized or out of bounds coordinates [     1.0551      1.0723]\n",
      "\u001b[34m\u001b[1mtrain: \u001b[0mWARNING ⚠️ /sfs/weka/scratch/acg3wjm/DSProject3/SCRIPTS/images/train/94f66c5e-23f0-11e9-b8f4-53a4213ee75e.jpg: ignoring corrupt image/label: non-normalized or out of bounds coordinates [     1.0691      1.0285]\n",
      "\u001b[34m\u001b[1mtrain: \u001b[0mWARNING ⚠️ /sfs/weka/scratch/acg3wjm/DSProject3/SCRIPTS/images/train/94f66cd6-23f0-11e9-b8f5-c303bf3aa158.jpg: ignoring corrupt image/label: non-normalized or out of bounds coordinates [     1.0664      1.0148]\n",
      "\u001b[34m\u001b[1mtrain: \u001b[0mWARNING ⚠️ /sfs/weka/scratch/acg3wjm/DSProject3/SCRIPTS/images/train/94f66d4e-23f0-11e9-b8f6-db3c609a62f8.jpg: ignoring corrupt image/label: non-normalized or out of bounds coordinates [     1.0648]\n",
      "\u001b[34m\u001b[1mtrain: \u001b[0mWARNING ⚠️ /sfs/weka/scratch/acg3wjm/DSProject3/SCRIPTS/images/train/94f66dc6-23f0-11e9-b8f7-6b0498eca45f.jpg: ignoring corrupt image/label: non-normalized or out of bounds coordinates [     1.0641]\n",
      "\u001b[34m\u001b[1mtrain: \u001b[0mWARNING ⚠️ /sfs/weka/scratch/acg3wjm/DSProject3/SCRIPTS/images/train/94f66e3e-23f0-11e9-b8f8-07c1005381bf.jpg: ignoring corrupt image/label: non-normalized or out of bounds coordinates [     1.0551]\n",
      "\u001b[34m\u001b[1mtrain: \u001b[0mWARNING ⚠️ /sfs/weka/scratch/acg3wjm/DSProject3/SCRIPTS/images/train/94f66fa6-23f0-11e9-b8fb-8b226eeaa6fa.jpg: ignoring corrupt image/label: non-normalized or out of bounds coordinates [     1.0445]\n",
      "\u001b[34m\u001b[1mtrain: \u001b[0mWARNING ⚠️ /sfs/weka/scratch/acg3wjm/DSProject3/SCRIPTS/images/train/94f67014-23f0-11e9-b8fc-33db07731e48.jpg: ignoring corrupt image/label: non-normalized or out of bounds coordinates [      1.043]\n",
      "\u001b[34m\u001b[1mtrain: \u001b[0mWARNING ⚠️ /sfs/weka/scratch/acg3wjm/DSProject3/SCRIPTS/images/train/94f6708c-23f0-11e9-b8fd-7ba970421824.jpg: ignoring corrupt image/label: non-normalized or out of bounds coordinates [      1.043]\n",
      "\u001b[34m\u001b[1mtrain: \u001b[0mWARNING ⚠️ /sfs/weka/scratch/acg3wjm/DSProject3/SCRIPTS/images/train/94f67104-23f0-11e9-b8fe-43585de2a3b0.jpg: ignoring corrupt image/label: non-normalized or out of bounds coordinates [      1.018]\n",
      "\u001b[34m\u001b[1mtrain: \u001b[0mWARNING ⚠️ /sfs/weka/scratch/acg3wjm/DSProject3/SCRIPTS/images/train/94f684be-23f0-11e9-b904-d703c8e5e3b5.jpg: ignoring corrupt image/label: non-normalized or out of bounds coordinates [     1.1148]\n",
      "\u001b[34m\u001b[1mtrain: \u001b[0mWARNING ⚠️ /sfs/weka/scratch/acg3wjm/DSProject3/SCRIPTS/images/train/94f6854a-23f0-11e9-b905-93060e03afe4.jpg: ignoring corrupt image/label: non-normalized or out of bounds coordinates [     1.0527]\n",
      "\u001b[34m\u001b[1mtrain: \u001b[0mWARNING ⚠️ /sfs/weka/scratch/acg3wjm/DSProject3/SCRIPTS/images/train/94f685b8-23f0-11e9-b906-57115651279d.jpg: ignoring corrupt image/label: non-normalized or out of bounds coordinates [     1.0457]\n",
      "\u001b[34m\u001b[1mtrain: \u001b[0mWARNING ⚠️ /sfs/weka/scratch/acg3wjm/DSProject3/SCRIPTS/images/train/94f68626-23f0-11e9-b907-13f5b479beb1.jpg: ignoring corrupt image/label: non-normalized or out of bounds coordinates [     1.0363]\n",
      "\u001b[34m\u001b[1mtrain: \u001b[0mWARNING ⚠️ /sfs/weka/scratch/acg3wjm/DSProject3/SCRIPTS/images/train/94f6869e-23f0-11e9-b908-c7036949570c.jpg: ignoring corrupt image/label: non-normalized or out of bounds coordinates [     1.0277]\n",
      "\u001b[34m\u001b[1mtrain: \u001b[0mWARNING ⚠️ /sfs/weka/scratch/acg3wjm/DSProject3/SCRIPTS/images/train/94f687f2-23f0-11e9-b90b-3f07a59f0917.jpg: ignoring corrupt image/label: non-normalized or out of bounds coordinates [     1.0887      1.0559      1.0238]\n",
      "\u001b[34m\u001b[1mtrain: \u001b[0mWARNING ⚠️ /sfs/weka/scratch/acg3wjm/DSProject3/SCRIPTS/images/train/94f68d42-23f0-11e9-b917-1be567660ea4.jpg: ignoring corrupt image/label: non-normalized or out of bounds coordinates [     1.0906]\n",
      "\u001b[34m\u001b[1mtrain: \u001b[0mWARNING ⚠️ /sfs/weka/scratch/acg3wjm/DSProject3/SCRIPTS/images/train/94f68da6-23f0-11e9-b918-c305ce953dea.jpg: ignoring corrupt image/label: non-normalized or out of bounds coordinates [     1.0988]\n",
      "\u001b[34m\u001b[1mtrain: \u001b[0mWARNING ⚠️ /sfs/weka/scratch/acg3wjm/DSProject3/SCRIPTS/images/train/94f6903a-23f0-11e9-b919-97d4547c7024.jpg: ignoring corrupt image/label: non-normalized or out of bounds coordinates [     1.0844]\n",
      "\u001b[34m\u001b[1mtrain: \u001b[0mWARNING ⚠️ /sfs/weka/scratch/acg3wjm/DSProject3/SCRIPTS/images/train/94f6912a-23f0-11e9-b91b-13d630f55706.jpg: ignoring corrupt image/label: non-normalized or out of bounds coordinates [     1.1227      1.0684]\n",
      "\u001b[34m\u001b[1mtrain: \u001b[0mWARNING ⚠️ /sfs/weka/scratch/acg3wjm/DSProject3/SCRIPTS/images/train/94f691a2-23f0-11e9-b91c-f7698f2bbe82.jpg: ignoring corrupt image/label: non-normalized or out of bounds coordinates [     1.0969       1.098]\n",
      "\u001b[34m\u001b[1mtrain: \u001b[0mWARNING ⚠️ /sfs/weka/scratch/acg3wjm/DSProject3/SCRIPTS/images/train/94f69274-23f0-11e9-b91e-4fb33095924f.jpg: ignoring corrupt image/label: non-normalized or out of bounds coordinates [     1.0426]\n",
      "\u001b[34m\u001b[1mtrain: \u001b[0mWARNING ⚠️ /sfs/weka/scratch/acg3wjm/DSProject3/SCRIPTS/images/train/94f692ec-23f0-11e9-b91f-ab83fffd734e.jpg: ignoring corrupt image/label: non-normalized or out of bounds coordinates [     1.0441      1.1355      1.0016]\n",
      "\u001b[34m\u001b[1mtrain: \u001b[0mWARNING ⚠️ /sfs/weka/scratch/acg3wjm/DSProject3/SCRIPTS/images/train/94f6a4c6-23f0-11e9-b924-6f03ad7218f7.jpg: ignoring corrupt image/label: non-normalized or out of bounds coordinates [     1.1316]\n",
      "\u001b[34m\u001b[1mtrain: \u001b[0mWARNING ⚠️ /sfs/weka/scratch/acg3wjm/DSProject3/SCRIPTS/images/train/94f6a642-23f0-11e9-b925-ebe78532ade2.jpg: ignoring corrupt image/label: non-normalized or out of bounds coordinates [     1.1441]\n",
      "\u001b[34m\u001b[1mtrain: \u001b[0mWARNING ⚠️ /sfs/weka/scratch/acg3wjm/DSProject3/SCRIPTS/images/train/94f6a6d8-23f0-11e9-b926-e7066b1f6e1b.jpg: ignoring corrupt image/label: non-normalized or out of bounds coordinates [     1.1359]\n",
      "\u001b[34m\u001b[1mtrain: \u001b[0mWARNING ⚠️ /sfs/weka/scratch/acg3wjm/DSProject3/SCRIPTS/images/train/94f6a750-23f0-11e9-b927-4f1f7509c4e3.jpg: ignoring corrupt image/label: non-normalized or out of bounds coordinates [     1.1363]\n",
      "\u001b[34m\u001b[1mtrain: \u001b[0mWARNING ⚠️ /sfs/weka/scratch/acg3wjm/DSProject3/SCRIPTS/images/train/94f6a7be-23f0-11e9-b928-331934697a9e.jpg: ignoring corrupt image/label: non-normalized or out of bounds coordinates [     1.0926]\n",
      "\u001b[34m\u001b[1mtrain: \u001b[0mWARNING ⚠️ /sfs/weka/scratch/acg3wjm/DSProject3/SCRIPTS/images/train/94f6a8ae-23f0-11e9-b92a-cf8be5f2b8e5.jpg: ignoring corrupt image/label: non-normalized or out of bounds coordinates [     1.0168]\n",
      "\u001b[34m\u001b[1mtrain: \u001b[0mWARNING ⚠️ /sfs/weka/scratch/acg3wjm/DSProject3/SCRIPTS/images/train/94f6a9c6-23f0-11e9-b92c-2383a3876cdc.jpg: ignoring corrupt image/label: non-normalized or out of bounds coordinates [     1.0162]\n",
      "\u001b[34m\u001b[1mtrain: \u001b[0mWARNING ⚠️ /sfs/weka/scratch/acg3wjm/DSProject3/SCRIPTS/images/train/94f6ab2e-23f0-11e9-b92f-432536ee7ba5.jpg: ignoring corrupt image/label: non-normalized or out of bounds coordinates [      1.073]\n",
      "\u001b[34m\u001b[1mtrain: \u001b[0mWARNING ⚠️ /sfs/weka/scratch/acg3wjm/DSProject3/SCRIPTS/images/train/94f6aba6-23f0-11e9-b930-ebe1b06cab80.jpg: ignoring corrupt image/label: non-normalized or out of bounds coordinates [     1.1113]\n",
      "\u001b[34m\u001b[1mtrain: \u001b[0mWARNING ⚠️ /sfs/weka/scratch/acg3wjm/DSProject3/SCRIPTS/images/train/94f6acf0-23f0-11e9-b933-1bb30c6e1ae5.jpg: ignoring corrupt image/label: non-normalized or out of bounds coordinates [     1.1488]\n",
      "\u001b[34m\u001b[1mtrain: \u001b[0mWARNING ⚠️ /sfs/weka/scratch/acg3wjm/DSProject3/SCRIPTS/images/train/94f6b1fa-23f0-11e9-b93f-3f9186e6d63c.jpg: ignoring corrupt image/label: non-normalized or out of bounds coordinates [     1.0465]\n",
      "\u001b[34m\u001b[1mtrain: \u001b[0mWARNING ⚠️ /sfs/weka/scratch/acg3wjm/DSProject3/SCRIPTS/images/train/94f6b2d6-23f0-11e9-b941-0b2a8277895c.jpg: ignoring corrupt image/label: non-normalized or out of bounds coordinates [     1.0797]\n",
      "\u001b[34m\u001b[1mtrain: \u001b[0mWARNING ⚠️ /sfs/weka/scratch/acg3wjm/DSProject3/SCRIPTS/images/train/94f6b344-23f0-11e9-b942-7b458761cc1d.jpg: ignoring corrupt image/label: non-normalized or out of bounds coordinates [     1.0629]\n",
      "\u001b[34m\u001b[1mtrain: \u001b[0mWARNING ⚠️ /sfs/weka/scratch/acg3wjm/DSProject3/SCRIPTS/images/train/94f6b420-23f0-11e9-b944-17a9d7dbe668.jpg: ignoring corrupt image/label: non-normalized or out of bounds coordinates [     1.0285]\n",
      "\u001b[34m\u001b[1mtrain: \u001b[0mWARNING ⚠️ /sfs/weka/scratch/acg3wjm/DSProject3/SCRIPTS/images/train/94f6c58c-23f0-11e9-b945-1b017824dd3b.jpg: ignoring corrupt image/label: non-normalized or out of bounds coordinates [     1.0336]\n",
      "\u001b[34m\u001b[1mtrain: \u001b[0mWARNING ⚠️ /sfs/weka/scratch/acg3wjm/DSProject3/SCRIPTS/images/train/94f6db8a-23f0-11e9-b959-cf624ceb639e.jpg: ignoring corrupt image/label: non-normalized or out of bounds coordinates [     1.0434]\n",
      "\u001b[34m\u001b[1mtrain: \u001b[0mWARNING ⚠️ /sfs/weka/scratch/acg3wjm/DSProject3/SCRIPTS/images/train/94f6dbf8-23f0-11e9-b95a-5ffe1cab77a7.jpg: ignoring corrupt image/label: non-normalized or out of bounds coordinates [     1.1051]\n",
      "\u001b[34m\u001b[1mtrain: \u001b[0mWARNING ⚠️ /sfs/weka/scratch/acg3wjm/DSProject3/SCRIPTS/images/train/94f6dc70-23f0-11e9-b95b-c351b7c9651d.jpg: ignoring corrupt image/label: non-normalized or out of bounds coordinates [     1.0914]\n",
      "\u001b[34m\u001b[1mtrain: \u001b[0mWARNING ⚠️ /sfs/weka/scratch/acg3wjm/DSProject3/SCRIPTS/images/train/94f6dcde-23f0-11e9-b95c-bffec4e5e352.jpg: ignoring corrupt image/label: non-normalized or out of bounds coordinates [     1.1066]\n",
      "\u001b[34m\u001b[1mtrain: \u001b[0mWARNING ⚠️ /sfs/weka/scratch/acg3wjm/DSProject3/SCRIPTS/images/train/94f6dd4c-23f0-11e9-b95d-6f1222400740.jpg: ignoring corrupt image/label: non-normalized or out of bounds coordinates [     1.1121]\n",
      "\u001b[34m\u001b[1mtrain: \u001b[0mWARNING ⚠️ /sfs/weka/scratch/acg3wjm/DSProject3/SCRIPTS/images/train/94f6de32-23f0-11e9-b95f-efde5d86c353.jpg: ignoring corrupt image/label: non-normalized or out of bounds coordinates [     1.0898]\n",
      "\u001b[34m\u001b[1mtrain: \u001b[0mWARNING ⚠️ /sfs/weka/scratch/acg3wjm/DSProject3/SCRIPTS/images/train/94f6f192-23f0-11e9-b965-bfe98cf596b6.jpg: ignoring corrupt image/label: non-normalized or out of bounds coordinates [     1.1285]\n",
      "\u001b[34m\u001b[1mtrain: \u001b[0mWARNING ⚠️ /sfs/weka/scratch/acg3wjm/DSProject3/SCRIPTS/images/train/94f6f2e6-23f0-11e9-b968-fba126014360.jpg: ignoring corrupt image/label: non-normalized or out of bounds coordinates [     1.0574]\n",
      "\u001b[34m\u001b[1mtrain: \u001b[0mWARNING ⚠️ /sfs/weka/scratch/acg3wjm/DSProject3/SCRIPTS/images/train/94f6f6c4-23f0-11e9-b971-cb5d0864b29d.jpg: ignoring corrupt image/label: non-normalized or out of bounds coordinates [     1.0539      1.0961]\n",
      "\u001b[34m\u001b[1mtrain: \u001b[0mWARNING ⚠️ /sfs/weka/scratch/acg3wjm/DSProject3/SCRIPTS/images/train/94f76abe-23f0-11e9-b9e9-935290a3f66b.jpg: ignoring corrupt image/label: non-normalized or out of bounds coordinates [     1.0414]\n",
      "\u001b[34m\u001b[1mtrain: \u001b[0mWARNING ⚠️ /sfs/weka/scratch/acg3wjm/DSProject3/SCRIPTS/images/train/94f76b90-23f0-11e9-b9eb-8f31f43a7812.jpg: ignoring corrupt image/label: non-normalized or out of bounds coordinates [     1.0414]\n",
      "\u001b[34m\u001b[1mtrain: \u001b[0mWARNING ⚠️ /sfs/weka/scratch/acg3wjm/DSProject3/SCRIPTS/images/train/94fcf6fa-23f0-11e9-bfd3-7f0753ece2ab.jpg: ignoring corrupt image/label: non-normalized or out of bounds coordinates [     1.0258]\n",
      "\u001b[34m\u001b[1mtrain: \u001b[0mWARNING ⚠️ /sfs/weka/scratch/acg3wjm/DSProject3/SCRIPTS/images/train/94fd8854-23f0-11e9-8c40-c7bfb77bcaf0.jpg: ignoring corrupt image/label: non-normalized or out of bounds coordinates [     1.0414]\n",
      "\u001b[34m\u001b[1mtrain: \u001b[0mWARNING ⚠️ /sfs/weka/scratch/acg3wjm/DSProject3/SCRIPTS/images/train/94fd8d22-23f0-11e9-8c4c-2762b0af9c01.jpg: ignoring corrupt image/label: non-normalized or out of bounds coordinates [     1.0414]\n"
     ]
    },
    {
     "name": "stderr",
     "output_type": "stream",
     "text": [
      "\n"
     ]
    },
    {
     "name": "stdout",
     "output_type": "stream",
     "text": [
      "\u001b[34m\u001b[1mval: \u001b[0mFast image access ✅ (ping: 0.0±0.0 ms, read: 281.2±183.2 MB/s, size: 138.4 KB)\n"
     ]
    },
    {
     "name": "stderr",
     "output_type": "stream",
     "text": [
      "\u001b[34m\u001b[1mval: \u001b[0mScanning /sfs/weka/scratch/acg3wjm/DSProject3/SCRIPTS/labels/val.cache... 413 images, 1639 backgrounds, 23 corrupt: 100%|██████████| 2052/2052 [00:00<?, ?it/s]"
     ]
    },
    {
     "name": "stdout",
     "output_type": "stream",
     "text": [
      "\u001b[34m\u001b[1mval: \u001b[0mWARNING ⚠️ /sfs/weka/scratch/acg3wjm/DSProject3/SCRIPTS/images/val/94f6223a-23f0-11e9-b8ad-f7415aed2d7a.jpg: ignoring corrupt image/label: non-normalized or out of bounds coordinates [     1.1484      1.0574]\n",
      "\u001b[34m\u001b[1mval: \u001b[0mWARNING ⚠️ /sfs/weka/scratch/acg3wjm/DSProject3/SCRIPTS/images/val/94f6237a-23f0-11e9-b8b0-2f610f3ac5ae.jpg: ignoring corrupt image/label: non-normalized or out of bounds coordinates [     1.1484      1.0859]\n",
      "\u001b[34m\u001b[1mval: \u001b[0mWARNING ⚠️ /sfs/weka/scratch/acg3wjm/DSProject3/SCRIPTS/images/val/94f626e0-23f0-11e9-b8b8-3bf2bf1a7739.jpg: ignoring corrupt image/label: non-normalized or out of bounds coordinates [      1.125      1.1449]\n",
      "\u001b[34m\u001b[1mval: \u001b[0mWARNING ⚠️ /sfs/weka/scratch/acg3wjm/DSProject3/SCRIPTS/images/val/94f6274e-23f0-11e9-b8b9-dbc9bc34ba59.jpg: ignoring corrupt image/label: non-normalized or out of bounds coordinates [     1.1379      1.1441]\n",
      "\u001b[34m\u001b[1mval: \u001b[0mWARNING ⚠️ /sfs/weka/scratch/acg3wjm/DSProject3/SCRIPTS/images/val/94f62a5a-23f0-11e9-b8c0-cb7c24b20f38.jpg: ignoring corrupt image/label: non-normalized or out of bounds coordinates [       1.15]\n",
      "\u001b[34m\u001b[1mval: \u001b[0mWARNING ⚠️ /sfs/weka/scratch/acg3wjm/DSProject3/SCRIPTS/images/val/94f64cf6-23f0-11e9-b8d3-1f54861fa64c.jpg: ignoring corrupt image/label: non-normalized or out of bounds coordinates [     1.1125]\n",
      "\u001b[34m\u001b[1mval: \u001b[0mWARNING ⚠️ /sfs/weka/scratch/acg3wjm/DSProject3/SCRIPTS/images/val/94f65002-23f0-11e9-b8da-2b6759189a17.jpg: ignoring corrupt image/label: non-normalized or out of bounds coordinates [     1.0023      1.0498]\n",
      "\u001b[34m\u001b[1mval: \u001b[0mWARNING ⚠️ /sfs/weka/scratch/acg3wjm/DSProject3/SCRIPTS/images/val/94f665ba-23f0-11e9-b8e5-d74a0e8c6b13.jpg: ignoring corrupt image/label: non-normalized or out of bounds coordinates [     1.1141      1.1418]\n",
      "\u001b[34m\u001b[1mval: \u001b[0mWARNING ⚠️ /sfs/weka/scratch/acg3wjm/DSProject3/SCRIPTS/images/val/94f6663c-23f0-11e9-b8e6-1f352ca68ad3.jpg: ignoring corrupt image/label: non-normalized or out of bounds coordinates [     1.1172      1.1422]\n",
      "\u001b[34m\u001b[1mval: \u001b[0mWARNING ⚠️ /sfs/weka/scratch/acg3wjm/DSProject3/SCRIPTS/images/val/94f6670e-23f0-11e9-b8e8-eb570dd91e7c.jpg: ignoring corrupt image/label: non-normalized or out of bounds coordinates [      1.143      1.1156]\n",
      "\u001b[34m\u001b[1mval: \u001b[0mWARNING ⚠️ /sfs/weka/scratch/acg3wjm/DSProject3/SCRIPTS/images/val/94f66858-23f0-11e9-b8eb-1fe75f0a1515.jpg: ignoring corrupt image/label: non-normalized or out of bounds coordinates [     1.1156      1.1441]\n",
      "\u001b[34m\u001b[1mval: \u001b[0mWARNING ⚠️ /sfs/weka/scratch/acg3wjm/DSProject3/SCRIPTS/images/val/94f68a9a-23f0-11e9-b911-172da05e3e74.jpg: ignoring corrupt image/label: non-normalized or out of bounds coordinates [     1.0523]\n",
      "\u001b[34m\u001b[1mval: \u001b[0mWARNING ⚠️ /sfs/weka/scratch/acg3wjm/DSProject3/SCRIPTS/images/val/94f69210-23f0-11e9-b91d-d74a9f756a8c.jpg: ignoring corrupt image/label: non-normalized or out of bounds coordinates [     1.0789      1.0871]\n",
      "\u001b[34m\u001b[1mval: \u001b[0mWARNING ⚠️ /sfs/weka/scratch/acg3wjm/DSProject3/SCRIPTS/images/val/94f6a944-23f0-11e9-b92b-fb21a8dff5dd.jpg: ignoring corrupt image/label: non-normalized or out of bounds coordinates [     1.0184]\n",
      "\u001b[34m\u001b[1mval: \u001b[0mWARNING ⚠️ /sfs/weka/scratch/acg3wjm/DSProject3/SCRIPTS/images/val/94f6aac0-23f0-11e9-b92e-e7083be3232e.jpg: ignoring corrupt image/label: non-normalized or out of bounds coordinates [     1.1316]\n",
      "\u001b[34m\u001b[1mval: \u001b[0mWARNING ⚠️ /sfs/weka/scratch/acg3wjm/DSProject3/SCRIPTS/images/val/94f6ac0a-23f0-11e9-b931-132bbdc028f1.jpg: ignoring corrupt image/label: non-normalized or out of bounds coordinates [     1.0988]\n",
      "\u001b[34m\u001b[1mval: \u001b[0mWARNING ⚠️ /sfs/weka/scratch/acg3wjm/DSProject3/SCRIPTS/images/val/94f6ac78-23f0-11e9-b932-07da671522ad.jpg: ignoring corrupt image/label: non-normalized or out of bounds coordinates [     1.0715]\n",
      "\u001b[34m\u001b[1mval: \u001b[0mWARNING ⚠️ /sfs/weka/scratch/acg3wjm/DSProject3/SCRIPTS/images/val/94f6b3b2-23f0-11e9-b943-ff4340e71d6d.jpg: ignoring corrupt image/label: non-normalized or out of bounds coordinates [     1.0352]\n",
      "\u001b[34m\u001b[1mval: \u001b[0mWARNING ⚠️ /sfs/weka/scratch/acg3wjm/DSProject3/SCRIPTS/images/val/94f6ddc4-23f0-11e9-b95e-eb2a6ecdd823.jpg: ignoring corrupt image/label: non-normalized or out of bounds coordinates [     1.1047]\n",
      "\u001b[34m\u001b[1mval: \u001b[0mWARNING ⚠️ /sfs/weka/scratch/acg3wjm/DSProject3/SCRIPTS/images/val/94f6f20a-23f0-11e9-b966-bf00bda69b34.jpg: ignoring corrupt image/label: non-normalized or out of bounds coordinates [     1.1285      1.1516]\n",
      "\u001b[34m\u001b[1mval: \u001b[0mWARNING ⚠️ /sfs/weka/scratch/acg3wjm/DSProject3/SCRIPTS/images/val/94f6f7a0-23f0-11e9-b973-0f4ceb3177d6.jpg: ignoring corrupt image/label: non-normalized or out of bounds coordinates [     1.1547]\n",
      "\u001b[34m\u001b[1mval: \u001b[0mWARNING ⚠️ /sfs/weka/scratch/acg3wjm/DSProject3/SCRIPTS/images/val/94fcf768-23f0-11e9-bfd4-2b8b33fa75b3.jpg: ignoring corrupt image/label: non-normalized or out of bounds coordinates [     1.0863]\n",
      "\u001b[34m\u001b[1mval: \u001b[0mWARNING ⚠️ /sfs/weka/scratch/acg3wjm/DSProject3/SCRIPTS/images/val/94fd88b8-23f0-11e9-8c41-330817755e57.jpg: ignoring corrupt image/label: non-normalized or out of bounds coordinates [     1.0414]\n"
     ]
    },
    {
     "name": "stderr",
     "output_type": "stream",
     "text": [
      "\n"
     ]
    },
    {
     "name": "stdout",
     "output_type": "stream",
     "text": [
      "Plotting labels to /sfs/weka/scratch/acg3wjm/DSProject3/runs/fishnet_yolov8/labels.jpg... \n",
      "\u001b[34m\u001b[1moptimizer:\u001b[0m 'optimizer=auto' found, ignoring 'lr0=0.01' and 'momentum=0.937' and determining best 'optimizer', 'lr0' and 'momentum' automatically... \n",
      "\u001b[34m\u001b[1moptimizer:\u001b[0m AdamW(lr=0.000313, momentum=0.9) with parameter groups 57 weight(decay=0.0), 64 weight(decay=0.0005), 63 bias(decay=0.0)\n",
      "Image sizes 640 train, 640 val\n",
      "Using 4 dataloader workers\n",
      "Logging results to \u001b[1m/sfs/weka/scratch/acg3wjm/DSProject3/runs/fishnet_yolov8\u001b[0m\n",
      "Starting training for 50 epochs...\n",
      "\n",
      "      Epoch    GPU_mem   box_loss   cls_loss   dfl_loss  Instances       Size\n"
     ]
    },
    {
     "name": "stderr",
     "output_type": "stream",
     "text": [
      "       1/50      3.66G       2.15      3.598       2.08         92        640: 100%|██████████| 122/122 [00:16<00:00,  7.49it/s]\n",
      "                 Class     Images  Instances      Box(P          R      mAP50  mAP50-95): 100%|██████████| 64/64 [00:07<00:00,  8.74it/s]\n"
     ]
    },
    {
     "name": "stdout",
     "output_type": "stream",
     "text": [
      "                   all       2029       1241      0.562      0.115     0.0666     0.0329\n",
      "\n",
      "      Epoch    GPU_mem   box_loss   cls_loss   dfl_loss  Instances       Size\n"
     ]
    },
    {
     "name": "stderr",
     "output_type": "stream",
     "text": [
      "       2/50      4.51G      1.679       1.98      1.634         46        640: 100%|██████████| 122/122 [00:13<00:00,  9.28it/s]\n",
      "                 Class     Images  Instances      Box(P          R      mAP50  mAP50-95): 100%|██████████| 64/64 [00:05<00:00, 12.29it/s]\n"
     ]
    },
    {
     "name": "stdout",
     "output_type": "stream",
     "text": [
      "                   all       2029       1241      0.473      0.303     0.0894      0.058\n",
      "\n",
      "      Epoch    GPU_mem   box_loss   cls_loss   dfl_loss  Instances       Size\n"
     ]
    },
    {
     "name": "stderr",
     "output_type": "stream",
     "text": [
      "       3/50      4.51G      1.505      1.575      1.465         68        640: 100%|██████████| 122/122 [00:12<00:00,  9.46it/s]\n",
      "                 Class     Images  Instances      Box(P          R      mAP50  mAP50-95): 100%|██████████| 64/64 [00:05<00:00, 12.27it/s]\n"
     ]
    },
    {
     "name": "stdout",
     "output_type": "stream",
     "text": [
      "                   all       2029       1241      0.305       0.32      0.119      0.072\n",
      "\n",
      "      Epoch    GPU_mem   box_loss   cls_loss   dfl_loss  Instances       Size\n"
     ]
    },
    {
     "name": "stderr",
     "output_type": "stream",
     "text": [
      "       4/50      4.51G      1.432      1.409      1.428         66        640: 100%|██████████| 122/122 [00:12<00:00,  9.47it/s]\n",
      "                 Class     Images  Instances      Box(P          R      mAP50  mAP50-95): 100%|██████████| 64/64 [00:05<00:00, 12.33it/s]\n"
     ]
    },
    {
     "name": "stdout",
     "output_type": "stream",
     "text": [
      "                   all       2029       1241      0.398      0.367      0.105     0.0634\n",
      "\n",
      "      Epoch    GPU_mem   box_loss   cls_loss   dfl_loss  Instances       Size\n"
     ]
    },
    {
     "name": "stderr",
     "output_type": "stream",
     "text": [
      "       5/50      4.51G      1.367      1.289      1.366         62        640: 100%|██████████| 122/122 [00:12<00:00,  9.50it/s]\n",
      "                 Class     Images  Instances      Box(P          R      mAP50  mAP50-95): 100%|██████████| 64/64 [00:05<00:00, 12.31it/s]\n"
     ]
    },
    {
     "name": "stdout",
     "output_type": "stream",
     "text": [
      "                   all       2029       1241      0.233      0.559      0.169      0.121\n",
      "\n",
      "      Epoch    GPU_mem   box_loss   cls_loss   dfl_loss  Instances       Size\n"
     ]
    },
    {
     "name": "stderr",
     "output_type": "stream",
     "text": [
      "       6/50      4.51G      1.282      1.165      1.314         95        640: 100%|██████████| 122/122 [00:12<00:00,  9.49it/s]\n",
      "                 Class     Images  Instances      Box(P          R      mAP50  mAP50-95): 100%|██████████| 64/64 [00:05<00:00, 12.33it/s]\n"
     ]
    },
    {
     "name": "stdout",
     "output_type": "stream",
     "text": [
      "                   all       2029       1241      0.208      0.368      0.125     0.0906\n",
      "\n",
      "      Epoch    GPU_mem   box_loss   cls_loss   dfl_loss  Instances       Size\n"
     ]
    },
    {
     "name": "stderr",
     "output_type": "stream",
     "text": [
      "       7/50      4.51G      1.244      1.147        1.3         61        640: 100%|██████████| 122/122 [00:12<00:00,  9.50it/s]\n",
      "                 Class     Images  Instances      Box(P          R      mAP50  mAP50-95): 100%|██████████| 64/64 [00:05<00:00, 12.42it/s]"
     ]
    },
    {
     "name": "stdout",
     "output_type": "stream",
     "text": [
      "                   all       2029       1241      0.215      0.538      0.124     0.0855\n"
     ]
    },
    {
     "name": "stderr",
     "output_type": "stream",
     "text": [
      "\n"
     ]
    },
    {
     "name": "stdout",
     "output_type": "stream",
     "text": [
      "\n",
      "      Epoch    GPU_mem   box_loss   cls_loss   dfl_loss  Instances       Size\n"
     ]
    },
    {
     "name": "stderr",
     "output_type": "stream",
     "text": [
      "       8/50      4.51G      1.176       1.07      1.249         77        640: 100%|██████████| 122/122 [00:12<00:00,  9.48it/s]\n",
      "                 Class     Images  Instances      Box(P          R      mAP50  mAP50-95): 100%|██████████| 64/64 [00:05<00:00, 12.31it/s]\n"
     ]
    },
    {
     "name": "stdout",
     "output_type": "stream",
     "text": [
      "                   all       2029       1241      0.238      0.561      0.162      0.117\n",
      "\n",
      "      Epoch    GPU_mem   box_loss   cls_loss   dfl_loss  Instances       Size\n"
     ]
    },
    {
     "name": "stderr",
     "output_type": "stream",
     "text": [
      "       9/50      4.51G      1.176      1.044      1.245         68        640: 100%|██████████| 122/122 [00:12<00:00,  9.51it/s]\n",
      "                 Class     Images  Instances      Box(P          R      mAP50  mAP50-95): 100%|██████████| 64/64 [00:05<00:00, 12.40it/s]\n"
     ]
    },
    {
     "name": "stdout",
     "output_type": "stream",
     "text": [
      "                   all       2029       1241      0.214      0.486      0.147      0.104\n",
      "\n",
      "      Epoch    GPU_mem   box_loss   cls_loss   dfl_loss  Instances       Size\n"
     ]
    },
    {
     "name": "stderr",
     "output_type": "stream",
     "text": [
      "      10/50      4.51G      1.121      1.003      1.213         72        640: 100%|██████████| 122/122 [00:12<00:00,  9.51it/s]\n",
      "                 Class     Images  Instances      Box(P          R      mAP50  mAP50-95): 100%|██████████| 64/64 [00:05<00:00, 12.33it/s]\n"
     ]
    },
    {
     "name": "stdout",
     "output_type": "stream",
     "text": [
      "                   all       2029       1241      0.219      0.588      0.129       0.09\n",
      "\n",
      "      Epoch    GPU_mem   box_loss   cls_loss   dfl_loss  Instances       Size\n"
     ]
    },
    {
     "name": "stderr",
     "output_type": "stream",
     "text": [
      "      11/50      4.51G      1.116     0.9953       1.21         71        640: 100%|██████████| 122/122 [00:12<00:00,  9.51it/s]\n",
      "                 Class     Images  Instances      Box(P          R      mAP50  mAP50-95): 100%|██████████| 64/64 [00:05<00:00, 11.99it/s]"
     ]
    },
    {
     "name": "stdout",
     "output_type": "stream",
     "text": [
      "                   all       2029       1241      0.234      0.592      0.156      0.114\n"
     ]
    },
    {
     "name": "stderr",
     "output_type": "stream",
     "text": [
      "\n"
     ]
    },
    {
     "name": "stdout",
     "output_type": "stream",
     "text": [
      "\n",
      "      Epoch    GPU_mem   box_loss   cls_loss   dfl_loss  Instances       Size\n"
     ]
    },
    {
     "name": "stderr",
     "output_type": "stream",
     "text": [
      "      12/50      4.51G      1.083     0.9533      1.183         78        640: 100%|██████████| 122/122 [00:12<00:00,  9.50it/s]\n",
      "                 Class     Images  Instances      Box(P          R      mAP50  mAP50-95): 100%|██████████| 64/64 [00:05<00:00, 12.47it/s]\n"
     ]
    },
    {
     "name": "stdout",
     "output_type": "stream",
     "text": [
      "                   all       2029       1241      0.131      0.529      0.145      0.106\n",
      "\n",
      "      Epoch    GPU_mem   box_loss   cls_loss   dfl_loss  Instances       Size\n"
     ]
    },
    {
     "name": "stderr",
     "output_type": "stream",
     "text": [
      "      13/50      4.51G      1.043     0.8991      1.159         65        640: 100%|██████████| 122/122 [00:12<00:00,  9.52it/s]\n",
      "                 Class     Images  Instances      Box(P          R      mAP50  mAP50-95): 100%|██████████| 64/64 [00:05<00:00, 12.39it/s]"
     ]
    },
    {
     "name": "stdout",
     "output_type": "stream",
     "text": [
      "                   all       2029       1241      0.142      0.654      0.153       0.12\n"
     ]
    },
    {
     "name": "stderr",
     "output_type": "stream",
     "text": [
      "\n"
     ]
    },
    {
     "name": "stdout",
     "output_type": "stream",
     "text": [
      "\n",
      "      Epoch    GPU_mem   box_loss   cls_loss   dfl_loss  Instances       Size\n"
     ]
    },
    {
     "name": "stderr",
     "output_type": "stream",
     "text": [
      "      14/50      4.51G      1.024     0.8776      1.154         75        640: 100%|██████████| 122/122 [00:12<00:00,  9.49it/s]\n",
      "                 Class     Images  Instances      Box(P          R      mAP50  mAP50-95): 100%|██████████| 64/64 [00:05<00:00, 12.40it/s]"
     ]
    },
    {
     "name": "stdout",
     "output_type": "stream",
     "text": [
      "                   all       2029       1241      0.215      0.538      0.167      0.125\n"
     ]
    },
    {
     "name": "stderr",
     "output_type": "stream",
     "text": [
      "\n"
     ]
    },
    {
     "name": "stdout",
     "output_type": "stream",
     "text": [
      "\n",
      "      Epoch    GPU_mem   box_loss   cls_loss   dfl_loss  Instances       Size\n"
     ]
    },
    {
     "name": "stderr",
     "output_type": "stream",
     "text": [
      "      15/50      4.51G      1.017     0.8729      1.141         64        640: 100%|██████████| 122/122 [00:12<00:00,  9.50it/s]\n",
      "                 Class     Images  Instances      Box(P          R      mAP50  mAP50-95): 100%|██████████| 64/64 [00:05<00:00, 12.42it/s]"
     ]
    },
    {
     "name": "stdout",
     "output_type": "stream",
     "text": [
      "                   all       2029       1241      0.211      0.629      0.162      0.118\n"
     ]
    },
    {
     "name": "stderr",
     "output_type": "stream",
     "text": [
      "\n"
     ]
    },
    {
     "name": "stdout",
     "output_type": "stream",
     "text": [
      "\n",
      "      Epoch    GPU_mem   box_loss   cls_loss   dfl_loss  Instances       Size\n"
     ]
    },
    {
     "name": "stderr",
     "output_type": "stream",
     "text": [
      "      16/50      4.51G      0.979     0.8521      1.123         46        640: 100%|██████████| 122/122 [00:12<00:00,  9.50it/s]\n",
      "                 Class     Images  Instances      Box(P          R      mAP50  mAP50-95): 100%|██████████| 64/64 [00:05<00:00, 12.41it/s]"
     ]
    },
    {
     "name": "stdout",
     "output_type": "stream",
     "text": [
      "                   all       2029       1241      0.137      0.641      0.161      0.122\n"
     ]
    },
    {
     "name": "stderr",
     "output_type": "stream",
     "text": [
      "\n"
     ]
    },
    {
     "name": "stdout",
     "output_type": "stream",
     "text": [
      "\n",
      "      Epoch    GPU_mem   box_loss   cls_loss   dfl_loss  Instances       Size\n"
     ]
    },
    {
     "name": "stderr",
     "output_type": "stream",
     "text": [
      "      17/50      4.51G     0.9954     0.8668       1.14         78        640: 100%|██████████| 122/122 [00:12<00:00,  9.53it/s]\n",
      "                 Class     Images  Instances      Box(P          R      mAP50  mAP50-95): 100%|██████████| 64/64 [00:05<00:00, 12.47it/s]"
     ]
    },
    {
     "name": "stdout",
     "output_type": "stream",
     "text": [
      "                   all       2029       1241      0.134      0.692      0.165      0.125\n"
     ]
    },
    {
     "name": "stderr",
     "output_type": "stream",
     "text": [
      "\n"
     ]
    },
    {
     "name": "stdout",
     "output_type": "stream",
     "text": [
      "\n",
      "      Epoch    GPU_mem   box_loss   cls_loss   dfl_loss  Instances       Size\n"
     ]
    },
    {
     "name": "stderr",
     "output_type": "stream",
     "text": [
      "      18/50      4.51G     0.9615     0.8511      1.126         78        640: 100%|██████████| 122/122 [00:12<00:00,  9.51it/s]\n",
      "                 Class     Images  Instances      Box(P          R      mAP50  mAP50-95): 100%|██████████| 64/64 [00:05<00:00, 12.46it/s]"
     ]
    },
    {
     "name": "stdout",
     "output_type": "stream",
     "text": [
      "                   all       2029       1241      0.133      0.647      0.155      0.114\n"
     ]
    },
    {
     "name": "stderr",
     "output_type": "stream",
     "text": [
      "\n"
     ]
    },
    {
     "name": "stdout",
     "output_type": "stream",
     "text": [
      "\n",
      "      Epoch    GPU_mem   box_loss   cls_loss   dfl_loss  Instances       Size\n"
     ]
    },
    {
     "name": "stderr",
     "output_type": "stream",
     "text": [
      "      19/50      4.51G     0.9303     0.7879      1.092         74        640: 100%|██████████| 122/122 [00:12<00:00,  9.51it/s]\n",
      "                 Class     Images  Instances      Box(P          R      mAP50  mAP50-95): 100%|██████████| 64/64 [00:05<00:00, 12.50it/s]"
     ]
    },
    {
     "name": "stdout",
     "output_type": "stream",
     "text": [
      "                   all       2029       1241      0.158       0.72      0.177      0.137\n"
     ]
    },
    {
     "name": "stderr",
     "output_type": "stream",
     "text": [
      "\n"
     ]
    },
    {
     "name": "stdout",
     "output_type": "stream",
     "text": [
      "\n",
      "      Epoch    GPU_mem   box_loss   cls_loss   dfl_loss  Instances       Size\n"
     ]
    },
    {
     "name": "stderr",
     "output_type": "stream",
     "text": [
      "      20/50      4.51G     0.9349     0.8312      1.108         58        640: 100%|██████████| 122/122 [00:12<00:00,  9.49it/s]\n",
      "                 Class     Images  Instances      Box(P          R      mAP50  mAP50-95): 100%|██████████| 64/64 [00:05<00:00, 12.39it/s]"
     ]
    },
    {
     "name": "stdout",
     "output_type": "stream",
     "text": [
      "                   all       2029       1241       0.15      0.691      0.178      0.134\n"
     ]
    },
    {
     "name": "stderr",
     "output_type": "stream",
     "text": [
      "\n"
     ]
    },
    {
     "name": "stdout",
     "output_type": "stream",
     "text": [
      "\n",
      "      Epoch    GPU_mem   box_loss   cls_loss   dfl_loss  Instances       Size\n"
     ]
    },
    {
     "name": "stderr",
     "output_type": "stream",
     "text": [
      "      21/50      4.51G     0.9132     0.7804      1.089         71        640: 100%|██████████| 122/122 [00:12<00:00,  9.52it/s]\n",
      "                 Class     Images  Instances      Box(P          R      mAP50  mAP50-95): 100%|██████████| 64/64 [00:05<00:00, 12.44it/s]"
     ]
    },
    {
     "name": "stdout",
     "output_type": "stream",
     "text": [
      "                   all       2029       1241      0.144       0.73      0.167      0.124\n"
     ]
    },
    {
     "name": "stderr",
     "output_type": "stream",
     "text": [
      "\n"
     ]
    },
    {
     "name": "stdout",
     "output_type": "stream",
     "text": [
      "\n",
      "      Epoch    GPU_mem   box_loss   cls_loss   dfl_loss  Instances       Size\n"
     ]
    },
    {
     "name": "stderr",
     "output_type": "stream",
     "text": [
      "      22/50      4.51G     0.9014     0.7935      1.073         38        640: 100%|██████████| 122/122 [00:12<00:00,  9.49it/s]\n",
      "                 Class     Images  Instances      Box(P          R      mAP50  mAP50-95): 100%|██████████| 64/64 [00:05<00:00, 12.48it/s]"
     ]
    },
    {
     "name": "stdout",
     "output_type": "stream",
     "text": [
      "                   all       2029       1241      0.136      0.669      0.142      0.107\n"
     ]
    },
    {
     "name": "stderr",
     "output_type": "stream",
     "text": [
      "\n"
     ]
    },
    {
     "name": "stdout",
     "output_type": "stream",
     "text": [
      "\n",
      "      Epoch    GPU_mem   box_loss   cls_loss   dfl_loss  Instances       Size\n"
     ]
    },
    {
     "name": "stderr",
     "output_type": "stream",
     "text": [
      "      23/50      4.51G     0.8915     0.7706      1.077         73        640: 100%|██████████| 122/122 [00:12<00:00,  9.52it/s]\n",
      "                 Class     Images  Instances      Box(P          R      mAP50  mAP50-95): 100%|██████████| 64/64 [00:05<00:00, 12.37it/s]"
     ]
    },
    {
     "name": "stdout",
     "output_type": "stream",
     "text": [
      "                   all       2029       1241      0.141      0.619      0.142      0.106\n"
     ]
    },
    {
     "name": "stderr",
     "output_type": "stream",
     "text": [
      "\n"
     ]
    },
    {
     "name": "stdout",
     "output_type": "stream",
     "text": [
      "\n",
      "      Epoch    GPU_mem   box_loss   cls_loss   dfl_loss  Instances       Size\n"
     ]
    },
    {
     "name": "stderr",
     "output_type": "stream",
     "text": [
      "      24/50      4.51G     0.8863     0.7653      1.075         70        640: 100%|██████████| 122/122 [00:12<00:00,  9.49it/s]\n",
      "                 Class     Images  Instances      Box(P          R      mAP50  mAP50-95): 100%|██████████| 64/64 [00:05<00:00, 12.45it/s]"
     ]
    },
    {
     "name": "stdout",
     "output_type": "stream",
     "text": [
      "                   all       2029       1241      0.144      0.691      0.162      0.127\n"
     ]
    },
    {
     "name": "stderr",
     "output_type": "stream",
     "text": [
      "\n"
     ]
    },
    {
     "name": "stdout",
     "output_type": "stream",
     "text": [
      "\n",
      "      Epoch    GPU_mem   box_loss   cls_loss   dfl_loss  Instances       Size\n"
     ]
    },
    {
     "name": "stderr",
     "output_type": "stream",
     "text": [
      "      25/50      4.51G     0.8596     0.7574      1.061         58        640: 100%|██████████| 122/122 [00:12<00:00,  9.51it/s]\n",
      "                 Class     Images  Instances      Box(P          R      mAP50  mAP50-95): 100%|██████████| 64/64 [00:05<00:00, 12.52it/s]"
     ]
    },
    {
     "name": "stdout",
     "output_type": "stream",
     "text": [
      "                   all       2029       1241      0.249      0.682      0.163      0.128\n"
     ]
    },
    {
     "name": "stderr",
     "output_type": "stream",
     "text": [
      "\n"
     ]
    },
    {
     "name": "stdout",
     "output_type": "stream",
     "text": [
      "\n",
      "      Epoch    GPU_mem   box_loss   cls_loss   dfl_loss  Instances       Size\n"
     ]
    },
    {
     "name": "stderr",
     "output_type": "stream",
     "text": [
      "      26/50      4.51G     0.8505     0.7351      1.048         68        640: 100%|██████████| 122/122 [00:12<00:00,  9.50it/s]\n",
      "                 Class     Images  Instances      Box(P          R      mAP50  mAP50-95): 100%|██████████| 64/64 [00:05<00:00, 12.06it/s]"
     ]
    },
    {
     "name": "stdout",
     "output_type": "stream",
     "text": [
      "                   all       2029       1241      0.244      0.722      0.162      0.122\n"
     ]
    },
    {
     "name": "stderr",
     "output_type": "stream",
     "text": [
      "\n"
     ]
    },
    {
     "name": "stdout",
     "output_type": "stream",
     "text": [
      "\n",
      "      Epoch    GPU_mem   box_loss   cls_loss   dfl_loss  Instances       Size\n"
     ]
    },
    {
     "name": "stderr",
     "output_type": "stream",
     "text": [
      "      27/50      4.51G     0.8356     0.7217      1.044         83        640: 100%|██████████| 122/122 [00:12<00:00,  9.50it/s]\n",
      "                 Class     Images  Instances      Box(P          R      mAP50  mAP50-95): 100%|██████████| 64/64 [00:05<00:00, 12.53it/s]"
     ]
    },
    {
     "name": "stdout",
     "output_type": "stream",
     "text": [
      "                   all       2029       1241      0.219      0.707      0.151      0.109\n"
     ]
    },
    {
     "name": "stderr",
     "output_type": "stream",
     "text": [
      "\n"
     ]
    },
    {
     "name": "stdout",
     "output_type": "stream",
     "text": [
      "\n",
      "      Epoch    GPU_mem   box_loss   cls_loss   dfl_loss  Instances       Size\n"
     ]
    },
    {
     "name": "stderr",
     "output_type": "stream",
     "text": [
      "      28/50      4.51G     0.8379     0.7208      1.051         80        640: 100%|██████████| 122/122 [00:12<00:00,  9.51it/s]\n",
      "                 Class     Images  Instances      Box(P          R      mAP50  mAP50-95): 100%|██████████| 64/64 [00:05<00:00, 12.45it/s]"
     ]
    },
    {
     "name": "stdout",
     "output_type": "stream",
     "text": [
      "                   all       2029       1241      0.144       0.76      0.165      0.125\n"
     ]
    },
    {
     "name": "stderr",
     "output_type": "stream",
     "text": [
      "\n"
     ]
    },
    {
     "name": "stdout",
     "output_type": "stream",
     "text": [
      "\n",
      "      Epoch    GPU_mem   box_loss   cls_loss   dfl_loss  Instances       Size\n"
     ]
    },
    {
     "name": "stderr",
     "output_type": "stream",
     "text": [
      "      29/50      4.51G     0.8311     0.7283      1.041         77        640: 100%|██████████| 122/122 [00:12<00:00,  9.52it/s]\n",
      "                 Class     Images  Instances      Box(P          R      mAP50  mAP50-95): 100%|██████████| 64/64 [00:05<00:00, 12.52it/s]"
     ]
    },
    {
     "name": "stdout",
     "output_type": "stream",
     "text": [
      "                   all       2029       1241       0.14      0.751      0.165      0.126\n"
     ]
    },
    {
     "name": "stderr",
     "output_type": "stream",
     "text": [
      "\n"
     ]
    },
    {
     "name": "stdout",
     "output_type": "stream",
     "text": [
      "\n",
      "      Epoch    GPU_mem   box_loss   cls_loss   dfl_loss  Instances       Size\n"
     ]
    },
    {
     "name": "stderr",
     "output_type": "stream",
     "text": [
      "      30/50      4.51G     0.8213     0.7158      1.031         79        640: 100%|██████████| 122/122 [00:12<00:00,  9.49it/s]\n",
      "                 Class     Images  Instances      Box(P          R      mAP50  mAP50-95): 100%|██████████| 64/64 [00:05<00:00, 12.51it/s]"
     ]
    },
    {
     "name": "stdout",
     "output_type": "stream",
     "text": [
      "                   all       2029       1241      0.236      0.734       0.17      0.131\n"
     ]
    },
    {
     "name": "stderr",
     "output_type": "stream",
     "text": [
      "\n"
     ]
    },
    {
     "name": "stdout",
     "output_type": "stream",
     "text": [
      "\n",
      "      Epoch    GPU_mem   box_loss   cls_loss   dfl_loss  Instances       Size\n"
     ]
    },
    {
     "name": "stderr",
     "output_type": "stream",
     "text": [
      "      31/50      4.51G     0.8018     0.7053       1.03         60        640: 100%|██████████| 122/122 [00:12<00:00,  9.49it/s]\n",
      "                 Class     Images  Instances      Box(P          R      mAP50  mAP50-95): 100%|██████████| 64/64 [00:05<00:00, 12.54it/s]"
     ]
    },
    {
     "name": "stdout",
     "output_type": "stream",
     "text": [
      "                   all       2029       1241      0.237      0.704      0.189      0.131\n"
     ]
    },
    {
     "name": "stderr",
     "output_type": "stream",
     "text": [
      "\n"
     ]
    },
    {
     "name": "stdout",
     "output_type": "stream",
     "text": [
      "\n",
      "      Epoch    GPU_mem   box_loss   cls_loss   dfl_loss  Instances       Size\n"
     ]
    },
    {
     "name": "stderr",
     "output_type": "stream",
     "text": [
      "      32/50      4.51G     0.7915     0.6773      1.023         75        640: 100%|██████████| 122/122 [00:12<00:00,  9.50it/s]\n",
      "                 Class     Images  Instances      Box(P          R      mAP50  mAP50-95): 100%|██████████| 64/64 [00:05<00:00, 12.50it/s]"
     ]
    },
    {
     "name": "stdout",
     "output_type": "stream",
     "text": [
      "                   all       2029       1241      0.238      0.717      0.161      0.122\n"
     ]
    },
    {
     "name": "stderr",
     "output_type": "stream",
     "text": [
      "\n"
     ]
    },
    {
     "name": "stdout",
     "output_type": "stream",
     "text": [
      "\n",
      "      Epoch    GPU_mem   box_loss   cls_loss   dfl_loss  Instances       Size\n"
     ]
    },
    {
     "name": "stderr",
     "output_type": "stream",
     "text": [
      "      33/50      4.51G      0.787     0.6904      1.022         70        640: 100%|██████████| 122/122 [00:12<00:00,  9.51it/s]\n",
      "                 Class     Images  Instances      Box(P          R      mAP50  mAP50-95): 100%|██████████| 64/64 [00:05<00:00, 12.48it/s]"
     ]
    },
    {
     "name": "stdout",
     "output_type": "stream",
     "text": [
      "                   all       2029       1241      0.243      0.777      0.175      0.126\n"
     ]
    },
    {
     "name": "stderr",
     "output_type": "stream",
     "text": [
      "\n"
     ]
    },
    {
     "name": "stdout",
     "output_type": "stream",
     "text": [
      "\n",
      "      Epoch    GPU_mem   box_loss   cls_loss   dfl_loss  Instances       Size\n"
     ]
    },
    {
     "name": "stderr",
     "output_type": "stream",
     "text": [
      "      34/50      4.51G     0.7646     0.6827      1.004         76        640: 100%|██████████| 122/122 [00:12<00:00,  9.48it/s]\n",
      "                 Class     Images  Instances      Box(P          R      mAP50  mAP50-95): 100%|██████████| 64/64 [00:05<00:00, 12.46it/s]"
     ]
    },
    {
     "name": "stdout",
     "output_type": "stream",
     "text": [
      "                   all       2029       1241      0.224      0.615       0.15      0.113\n"
     ]
    },
    {
     "name": "stderr",
     "output_type": "stream",
     "text": [
      "\n"
     ]
    },
    {
     "name": "stdout",
     "output_type": "stream",
     "text": [
      "\n",
      "      Epoch    GPU_mem   box_loss   cls_loss   dfl_loss  Instances       Size\n"
     ]
    },
    {
     "name": "stderr",
     "output_type": "stream",
     "text": [
      "      35/50      4.51G     0.7678     0.6585       1.01         61        640: 100%|██████████| 122/122 [00:12<00:00,  9.52it/s]\n",
      "                 Class     Images  Instances      Box(P          R      mAP50  mAP50-95): 100%|██████████| 64/64 [00:05<00:00, 12.47it/s]"
     ]
    },
    {
     "name": "stdout",
     "output_type": "stream",
     "text": [
      "                   all       2029       1241      0.234      0.764      0.152      0.114\n"
     ]
    },
    {
     "name": "stderr",
     "output_type": "stream",
     "text": [
      "\n"
     ]
    },
    {
     "name": "stdout",
     "output_type": "stream",
     "text": [
      "\n",
      "      Epoch    GPU_mem   box_loss   cls_loss   dfl_loss  Instances       Size\n"
     ]
    },
    {
     "name": "stderr",
     "output_type": "stream",
     "text": [
      "      36/50      4.51G       0.75     0.6506      1.001         72        640: 100%|██████████| 122/122 [00:12<00:00,  9.49it/s]\n",
      "                 Class     Images  Instances      Box(P          R      mAP50  mAP50-95): 100%|██████████| 64/64 [00:05<00:00, 12.52it/s]"
     ]
    },
    {
     "name": "stdout",
     "output_type": "stream",
     "text": [
      "                   all       2029       1241      0.243      0.665      0.148      0.112\n"
     ]
    },
    {
     "name": "stderr",
     "output_type": "stream",
     "text": [
      "\n"
     ]
    },
    {
     "name": "stdout",
     "output_type": "stream",
     "text": [
      "\n",
      "      Epoch    GPU_mem   box_loss   cls_loss   dfl_loss  Instances       Size\n"
     ]
    },
    {
     "name": "stderr",
     "output_type": "stream",
     "text": [
      "      37/50      4.51G     0.7441     0.6476      1.005         71        640: 100%|██████████| 122/122 [00:13<00:00,  9.36it/s]\n",
      "                 Class     Images  Instances      Box(P          R      mAP50  mAP50-95): 100%|██████████| 64/64 [00:05<00:00, 12.49it/s]"
     ]
    },
    {
     "name": "stdout",
     "output_type": "stream",
     "text": [
      "                   all       2029       1241      0.232      0.672      0.161      0.121\n"
     ]
    },
    {
     "name": "stderr",
     "output_type": "stream",
     "text": [
      "\n"
     ]
    },
    {
     "name": "stdout",
     "output_type": "stream",
     "text": [
      "\n",
      "      Epoch    GPU_mem   box_loss   cls_loss   dfl_loss  Instances       Size\n"
     ]
    },
    {
     "name": "stderr",
     "output_type": "stream",
     "text": [
      "      38/50      4.51G     0.7288     0.6449     0.9946         67        640: 100%|██████████| 122/122 [00:12<00:00,  9.50it/s]\n",
      "                 Class     Images  Instances      Box(P          R      mAP50  mAP50-95): 100%|██████████| 64/64 [00:05<00:00, 12.52it/s]"
     ]
    },
    {
     "name": "stdout",
     "output_type": "stream",
     "text": [
      "                   all       2029       1241      0.237      0.701      0.157      0.122\n"
     ]
    },
    {
     "name": "stderr",
     "output_type": "stream",
     "text": [
      "\n"
     ]
    },
    {
     "name": "stdout",
     "output_type": "stream",
     "text": [
      "\n",
      "      Epoch    GPU_mem   box_loss   cls_loss   dfl_loss  Instances       Size\n"
     ]
    },
    {
     "name": "stderr",
     "output_type": "stream",
     "text": [
      "      39/50      4.51G     0.7359     0.6314     0.9917         76        640: 100%|██████████| 122/122 [00:12<00:00,  9.52it/s]\n",
      "                 Class     Images  Instances      Box(P          R      mAP50  mAP50-95): 100%|██████████| 64/64 [00:05<00:00, 12.50it/s]"
     ]
    },
    {
     "name": "stdout",
     "output_type": "stream",
     "text": [
      "                   all       2029       1241      0.238      0.798      0.184      0.147\n"
     ]
    },
    {
     "name": "stderr",
     "output_type": "stream",
     "text": [
      "\n"
     ]
    },
    {
     "name": "stdout",
     "output_type": "stream",
     "text": [
      "\n",
      "      Epoch    GPU_mem   box_loss   cls_loss   dfl_loss  Instances       Size\n"
     ]
    },
    {
     "name": "stderr",
     "output_type": "stream",
     "text": [
      "      40/50      4.51G     0.7253     0.6291     0.9852         58        640: 100%|██████████| 122/122 [00:12<00:00,  9.49it/s]\n",
      "                 Class     Images  Instances      Box(P          R      mAP50  mAP50-95): 100%|██████████| 64/64 [00:05<00:00, 12.49it/s]"
     ]
    },
    {
     "name": "stdout",
     "output_type": "stream",
     "text": [
      "                   all       2029       1241      0.231      0.787       0.16       0.12\n"
     ]
    },
    {
     "name": "stderr",
     "output_type": "stream",
     "text": [
      "\n"
     ]
    },
    {
     "name": "stdout",
     "output_type": "stream",
     "text": [
      "Closing dataloader mosaic\n",
      "\n",
      "      Epoch    GPU_mem   box_loss   cls_loss   dfl_loss  Instances       Size\n"
     ]
    },
    {
     "name": "stderr",
     "output_type": "stream",
     "text": [
      "      41/50      4.51G     0.6633     0.5713     0.9623         33        640: 100%|██████████| 122/122 [00:13<00:00,  9.23it/s]\n",
      "                 Class     Images  Instances      Box(P          R      mAP50  mAP50-95): 100%|██████████| 64/64 [00:05<00:00, 12.51it/s]"
     ]
    },
    {
     "name": "stdout",
     "output_type": "stream",
     "text": [
      "                   all       2029       1241      0.226      0.657      0.186      0.138\n"
     ]
    },
    {
     "name": "stderr",
     "output_type": "stream",
     "text": [
      "\n"
     ]
    },
    {
     "name": "stdout",
     "output_type": "stream",
     "text": [
      "\n",
      "      Epoch    GPU_mem   box_loss   cls_loss   dfl_loss  Instances       Size\n"
     ]
    },
    {
     "name": "stderr",
     "output_type": "stream",
     "text": [
      "      42/50      4.51G     0.6425     0.5515     0.9461         34        640: 100%|██████████| 122/122 [00:12<00:00,  9.58it/s]\n",
      "                 Class     Images  Instances      Box(P          R      mAP50  mAP50-95): 100%|██████████| 64/64 [00:05<00:00, 12.49it/s]"
     ]
    },
    {
     "name": "stdout",
     "output_type": "stream",
     "text": [
      "                   all       2029       1241       0.24      0.677      0.192      0.132\n"
     ]
    },
    {
     "name": "stderr",
     "output_type": "stream",
     "text": [
      "\n"
     ]
    },
    {
     "name": "stdout",
     "output_type": "stream",
     "text": [
      "\n",
      "      Epoch    GPU_mem   box_loss   cls_loss   dfl_loss  Instances       Size\n"
     ]
    },
    {
     "name": "stderr",
     "output_type": "stream",
     "text": [
      "      43/50      4.51G     0.6152     0.5381     0.9394         47        640: 100%|██████████| 122/122 [00:12<00:00,  9.59it/s]\n",
      "                 Class     Images  Instances      Box(P          R      mAP50  mAP50-95): 100%|██████████| 64/64 [00:05<00:00, 12.49it/s]"
     ]
    },
    {
     "name": "stdout",
     "output_type": "stream",
     "text": [
      "                   all       2029       1241      0.239      0.687      0.253      0.192\n"
     ]
    },
    {
     "name": "stderr",
     "output_type": "stream",
     "text": [
      "\n"
     ]
    },
    {
     "name": "stdout",
     "output_type": "stream",
     "text": [
      "\n",
      "      Epoch    GPU_mem   box_loss   cls_loss   dfl_loss  Instances       Size\n"
     ]
    },
    {
     "name": "stderr",
     "output_type": "stream",
     "text": [
      "      44/50      4.51G     0.6073      0.533     0.9335         48        640: 100%|██████████| 122/122 [00:12<00:00,  9.58it/s]\n",
      "                 Class     Images  Instances      Box(P          R      mAP50  mAP50-95): 100%|██████████| 64/64 [00:05<00:00, 12.51it/s]"
     ]
    },
    {
     "name": "stdout",
     "output_type": "stream",
     "text": [
      "                   all       2029       1241      0.236      0.652      0.181      0.139\n"
     ]
    },
    {
     "name": "stderr",
     "output_type": "stream",
     "text": [
      "\n"
     ]
    },
    {
     "name": "stdout",
     "output_type": "stream",
     "text": [
      "\n",
      "      Epoch    GPU_mem   box_loss   cls_loss   dfl_loss  Instances       Size\n"
     ]
    },
    {
     "name": "stderr",
     "output_type": "stream",
     "text": [
      "      45/50      4.51G     0.5834     0.5209     0.9247         44        640: 100%|██████████| 122/122 [00:12<00:00,  9.59it/s]\n",
      "                 Class     Images  Instances      Box(P          R      mAP50  mAP50-95): 100%|██████████| 64/64 [00:05<00:00, 12.48it/s]"
     ]
    },
    {
     "name": "stdout",
     "output_type": "stream",
     "text": [
      "                   all       2029       1241      0.237      0.702      0.168      0.131\n"
     ]
    },
    {
     "name": "stderr",
     "output_type": "stream",
     "text": [
      "\n"
     ]
    },
    {
     "name": "stdout",
     "output_type": "stream",
     "text": [
      "\n",
      "      Epoch    GPU_mem   box_loss   cls_loss   dfl_loss  Instances       Size\n"
     ]
    },
    {
     "name": "stderr",
     "output_type": "stream",
     "text": [
      "      46/50      4.51G     0.5978     0.5191     0.9282         37        640: 100%|██████████| 122/122 [00:12<00:00,  9.56it/s]\n",
      "                 Class     Images  Instances      Box(P          R      mAP50  mAP50-95): 100%|██████████| 64/64 [00:05<00:00, 12.44it/s]"
     ]
    },
    {
     "name": "stdout",
     "output_type": "stream",
     "text": [
      "                   all       2029       1241      0.237      0.697      0.161      0.123\n"
     ]
    },
    {
     "name": "stderr",
     "output_type": "stream",
     "text": [
      "\n"
     ]
    },
    {
     "name": "stdout",
     "output_type": "stream",
     "text": [
      "\n",
      "      Epoch    GPU_mem   box_loss   cls_loss   dfl_loss  Instances       Size\n"
     ]
    },
    {
     "name": "stderr",
     "output_type": "stream",
     "text": [
      "      47/50      4.51G     0.5841     0.5182     0.9235         28        640: 100%|██████████| 122/122 [00:12<00:00,  9.57it/s]\n",
      "                 Class     Images  Instances      Box(P          R      mAP50  mAP50-95): 100%|██████████| 64/64 [00:05<00:00, 12.10it/s]"
     ]
    },
    {
     "name": "stdout",
     "output_type": "stream",
     "text": [
      "                   all       2029       1241      0.232       0.72      0.163      0.126\n"
     ]
    },
    {
     "name": "stderr",
     "output_type": "stream",
     "text": [
      "\n"
     ]
    },
    {
     "name": "stdout",
     "output_type": "stream",
     "text": [
      "\n",
      "      Epoch    GPU_mem   box_loss   cls_loss   dfl_loss  Instances       Size\n"
     ]
    },
    {
     "name": "stderr",
     "output_type": "stream",
     "text": [
      "      48/50      4.51G     0.5696     0.5017      0.924         39        640: 100%|██████████| 122/122 [00:12<00:00,  9.57it/s]\n",
      "                 Class     Images  Instances      Box(P          R      mAP50  mAP50-95): 100%|██████████| 64/64 [00:05<00:00, 12.44it/s]"
     ]
    },
    {
     "name": "stdout",
     "output_type": "stream",
     "text": [
      "                   all       2029       1241       0.13      0.731      0.158      0.123\n"
     ]
    },
    {
     "name": "stderr",
     "output_type": "stream",
     "text": [
      "\n"
     ]
    },
    {
     "name": "stdout",
     "output_type": "stream",
     "text": [
      "\n",
      "      Epoch    GPU_mem   box_loss   cls_loss   dfl_loss  Instances       Size\n"
     ]
    },
    {
     "name": "stderr",
     "output_type": "stream",
     "text": [
      "      49/50      4.51G     0.5646     0.4967     0.9192         48        640: 100%|██████████| 122/122 [00:12<00:00,  9.58it/s]\n",
      "                 Class     Images  Instances      Box(P          R      mAP50  mAP50-95): 100%|██████████| 64/64 [00:05<00:00, 12.50it/s]"
     ]
    },
    {
     "name": "stdout",
     "output_type": "stream",
     "text": [
      "                   all       2029       1241      0.227      0.732      0.168       0.13\n"
     ]
    },
    {
     "name": "stderr",
     "output_type": "stream",
     "text": [
      "\n"
     ]
    },
    {
     "name": "stdout",
     "output_type": "stream",
     "text": [
      "\n",
      "      Epoch    GPU_mem   box_loss   cls_loss   dfl_loss  Instances       Size\n"
     ]
    },
    {
     "name": "stderr",
     "output_type": "stream",
     "text": [
      "      50/50      4.51G     0.5574     0.4887     0.9165         39        640: 100%|██████████| 122/122 [00:12<00:00,  9.58it/s]\n",
      "                 Class     Images  Instances      Box(P          R      mAP50  mAP50-95): 100%|██████████| 64/64 [00:05<00:00, 12.54it/s]"
     ]
    },
    {
     "name": "stdout",
     "output_type": "stream",
     "text": [
      "                   all       2029       1241      0.228      0.731      0.171      0.133\n"
     ]
    },
    {
     "name": "stderr",
     "output_type": "stream",
     "text": [
      "\n"
     ]
    },
    {
     "name": "stdout",
     "output_type": "stream",
     "text": [
      "\n",
      "50 epochs completed in 0.257 hours.\n",
      "Optimizer stripped from /sfs/weka/scratch/acg3wjm/DSProject3/runs/fishnet_yolov8/weights/last.pt, 22.5MB\n",
      "Optimizer stripped from /sfs/weka/scratch/acg3wjm/DSProject3/runs/fishnet_yolov8/weights/best.pt, 22.5MB\n",
      "\n",
      "Validating /sfs/weka/scratch/acg3wjm/DSProject3/runs/fishnet_yolov8/weights/best.pt...\n",
      "Ultralytics 8.3.111 🚀 Python-3.11.4 torch-2.5.1+cu121 CUDA:0 (Tesla V100-SXM2-32GB, 32494MiB)\n",
      "Model summary (fused): 72 layers, 11,136,420 parameters, 0 gradients, 28.5 GFLOPs\n"
     ]
    },
    {
     "name": "stderr",
     "output_type": "stream",
     "text": [
      "                 Class     Images  Instances      Box(P          R      mAP50  mAP50-95): 100%|██████████| 64/64 [00:05<00:00, 11.66it/s]\n"
     ]
    },
    {
     "name": "stdout",
     "output_type": "stream",
     "text": [
      "                   all       2029       1241      0.239      0.687      0.254      0.193\n",
      "              Albacore        127        135      0.134      0.719      0.123     0.0702\n",
      "           Bigeye tuna         24         24      0.132      0.958      0.137      0.111\n",
      "           Blue marlin          1          1          1          0      0.995      0.697\n",
      "                 Human        368        830      0.156      0.779       0.15      0.112\n",
      "Long snouted lancetfish          4          4      0.099       0.75     0.0977     0.0719\n",
      "             Mahi mahi         65         78      0.152      0.628      0.138     0.0983\n",
      "               No fish          4          4      0.237       0.75      0.213      0.182\n",
      "                 Shark          2          2     0.0676        0.5      0.105     0.0621\n",
      "             Swordfish          6          6      0.234          1      0.413      0.403\n",
      "        Yellowfin tuna        139        157      0.175      0.782      0.171      0.119\n",
      "Speed: 0.1ms preprocess, 0.9ms inference, 0.0ms loss, 0.7ms postprocess per image\n",
      "Results saved to \u001b[1m/sfs/weka/scratch/acg3wjm/DSProject3/runs/fishnet_yolov8\u001b[0m\n"
     ]
    },
    {
     "data": {
      "text/plain": [
       "ultralytics.utils.metrics.DetMetrics object with attributes:\n",
       "\n",
       "ap_class_index: array([ 0,  1,  3,  5,  7,  8, 10, 17, 23, 27])\n",
       "box: ultralytics.utils.metrics.Metric object\n",
       "confusion_matrix: <ultralytics.utils.metrics.ConfusionMatrix object at 0x7fbf2c550cd0>\n",
       "curves: ['Precision-Recall(B)', 'F1-Confidence(B)', 'Precision-Confidence(B)', 'Recall-Confidence(B)']\n",
       "curves_results: [[array([          0,    0.001001,    0.002002,    0.003003,    0.004004,    0.005005,    0.006006,    0.007007,    0.008008,    0.009009,     0.01001,    0.011011,    0.012012,    0.013013,    0.014014,    0.015015,    0.016016,    0.017017,    0.018018,    0.019019,     0.02002,    0.021021,    0.022022,    0.023023,\n",
       "          0.024024,    0.025025,    0.026026,    0.027027,    0.028028,    0.029029,     0.03003,    0.031031,    0.032032,    0.033033,    0.034034,    0.035035,    0.036036,    0.037037,    0.038038,    0.039039,     0.04004,    0.041041,    0.042042,    0.043043,    0.044044,    0.045045,    0.046046,    0.047047,\n",
       "          0.048048,    0.049049,     0.05005,    0.051051,    0.052052,    0.053053,    0.054054,    0.055055,    0.056056,    0.057057,    0.058058,    0.059059,     0.06006,    0.061061,    0.062062,    0.063063,    0.064064,    0.065065,    0.066066,    0.067067,    0.068068,    0.069069,     0.07007,    0.071071,\n",
       "          0.072072,    0.073073,    0.074074,    0.075075,    0.076076,    0.077077,    0.078078,    0.079079,     0.08008,    0.081081,    0.082082,    0.083083,    0.084084,    0.085085,    0.086086,    0.087087,    0.088088,    0.089089,     0.09009,    0.091091,    0.092092,    0.093093,    0.094094,    0.095095,\n",
       "          0.096096,    0.097097,    0.098098,    0.099099,      0.1001,      0.1011,      0.1021,      0.1031,      0.1041,     0.10511,     0.10611,     0.10711,     0.10811,     0.10911,     0.11011,     0.11111,     0.11211,     0.11311,     0.11411,     0.11512,     0.11612,     0.11712,     0.11812,     0.11912,\n",
       "           0.12012,     0.12112,     0.12212,     0.12312,     0.12412,     0.12513,     0.12613,     0.12713,     0.12813,     0.12913,     0.13013,     0.13113,     0.13213,     0.13313,     0.13413,     0.13514,     0.13614,     0.13714,     0.13814,     0.13914,     0.14014,     0.14114,     0.14214,     0.14314,\n",
       "           0.14414,     0.14515,     0.14615,     0.14715,     0.14815,     0.14915,     0.15015,     0.15115,     0.15215,     0.15315,     0.15415,     0.15516,     0.15616,     0.15716,     0.15816,     0.15916,     0.16016,     0.16116,     0.16216,     0.16316,     0.16416,     0.16517,     0.16617,     0.16717,\n",
       "           0.16817,     0.16917,     0.17017,     0.17117,     0.17217,     0.17317,     0.17417,     0.17518,     0.17618,     0.17718,     0.17818,     0.17918,     0.18018,     0.18118,     0.18218,     0.18318,     0.18418,     0.18519,     0.18619,     0.18719,     0.18819,     0.18919,     0.19019,     0.19119,\n",
       "           0.19219,     0.19319,     0.19419,      0.1952,      0.1962,      0.1972,      0.1982,      0.1992,      0.2002,      0.2012,      0.2022,      0.2032,      0.2042,     0.20521,     0.20621,     0.20721,     0.20821,     0.20921,     0.21021,     0.21121,     0.21221,     0.21321,     0.21421,     0.21522,\n",
       "           0.21622,     0.21722,     0.21822,     0.21922,     0.22022,     0.22122,     0.22222,     0.22322,     0.22422,     0.22523,     0.22623,     0.22723,     0.22823,     0.22923,     0.23023,     0.23123,     0.23223,     0.23323,     0.23423,     0.23524,     0.23624,     0.23724,     0.23824,     0.23924,\n",
       "           0.24024,     0.24124,     0.24224,     0.24324,     0.24424,     0.24525,     0.24625,     0.24725,     0.24825,     0.24925,     0.25025,     0.25125,     0.25225,     0.25325,     0.25425,     0.25526,     0.25626,     0.25726,     0.25826,     0.25926,     0.26026,     0.26126,     0.26226,     0.26326,\n",
       "           0.26426,     0.26527,     0.26627,     0.26727,     0.26827,     0.26927,     0.27027,     0.27127,     0.27227,     0.27327,     0.27427,     0.27528,     0.27628,     0.27728,     0.27828,     0.27928,     0.28028,     0.28128,     0.28228,     0.28328,     0.28428,     0.28529,     0.28629,     0.28729,\n",
       "           0.28829,     0.28929,     0.29029,     0.29129,     0.29229,     0.29329,     0.29429,      0.2953,      0.2963,      0.2973,      0.2983,      0.2993,      0.3003,      0.3013,      0.3023,      0.3033,      0.3043,     0.30531,     0.30631,     0.30731,     0.30831,     0.30931,     0.31031,     0.31131,\n",
       "           0.31231,     0.31331,     0.31431,     0.31532,     0.31632,     0.31732,     0.31832,     0.31932,     0.32032,     0.32132,     0.32232,     0.32332,     0.32432,     0.32533,     0.32633,     0.32733,     0.32833,     0.32933,     0.33033,     0.33133,     0.33233,     0.33333,     0.33433,     0.33534,\n",
       "           0.33634,     0.33734,     0.33834,     0.33934,     0.34034,     0.34134,     0.34234,     0.34334,     0.34434,     0.34535,     0.34635,     0.34735,     0.34835,     0.34935,     0.35035,     0.35135,     0.35235,     0.35335,     0.35435,     0.35536,     0.35636,     0.35736,     0.35836,     0.35936,\n",
       "           0.36036,     0.36136,     0.36236,     0.36336,     0.36436,     0.36537,     0.36637,     0.36737,     0.36837,     0.36937,     0.37037,     0.37137,     0.37237,     0.37337,     0.37437,     0.37538,     0.37638,     0.37738,     0.37838,     0.37938,     0.38038,     0.38138,     0.38238,     0.38338,\n",
       "           0.38438,     0.38539,     0.38639,     0.38739,     0.38839,     0.38939,     0.39039,     0.39139,     0.39239,     0.39339,     0.39439,      0.3954,      0.3964,      0.3974,      0.3984,      0.3994,      0.4004,      0.4014,      0.4024,      0.4034,      0.4044,     0.40541,     0.40641,     0.40741,\n",
       "           0.40841,     0.40941,     0.41041,     0.41141,     0.41241,     0.41341,     0.41441,     0.41542,     0.41642,     0.41742,     0.41842,     0.41942,     0.42042,     0.42142,     0.42242,     0.42342,     0.42442,     0.42543,     0.42643,     0.42743,     0.42843,     0.42943,     0.43043,     0.43143,\n",
       "           0.43243,     0.43343,     0.43443,     0.43544,     0.43644,     0.43744,     0.43844,     0.43944,     0.44044,     0.44144,     0.44244,     0.44344,     0.44444,     0.44545,     0.44645,     0.44745,     0.44845,     0.44945,     0.45045,     0.45145,     0.45245,     0.45345,     0.45445,     0.45546,\n",
       "           0.45646,     0.45746,     0.45846,     0.45946,     0.46046,     0.46146,     0.46246,     0.46346,     0.46446,     0.46547,     0.46647,     0.46747,     0.46847,     0.46947,     0.47047,     0.47147,     0.47247,     0.47347,     0.47447,     0.47548,     0.47648,     0.47748,     0.47848,     0.47948,\n",
       "           0.48048,     0.48148,     0.48248,     0.48348,     0.48448,     0.48549,     0.48649,     0.48749,     0.48849,     0.48949,     0.49049,     0.49149,     0.49249,     0.49349,     0.49449,      0.4955,      0.4965,      0.4975,      0.4985,      0.4995,      0.5005,      0.5015,      0.5025,      0.5035,\n",
       "            0.5045,     0.50551,     0.50651,     0.50751,     0.50851,     0.50951,     0.51051,     0.51151,     0.51251,     0.51351,     0.51451,     0.51552,     0.51652,     0.51752,     0.51852,     0.51952,     0.52052,     0.52152,     0.52252,     0.52352,     0.52452,     0.52553,     0.52653,     0.52753,\n",
       "           0.52853,     0.52953,     0.53053,     0.53153,     0.53253,     0.53353,     0.53453,     0.53554,     0.53654,     0.53754,     0.53854,     0.53954,     0.54054,     0.54154,     0.54254,     0.54354,     0.54454,     0.54555,     0.54655,     0.54755,     0.54855,     0.54955,     0.55055,     0.55155,\n",
       "           0.55255,     0.55355,     0.55455,     0.55556,     0.55656,     0.55756,     0.55856,     0.55956,     0.56056,     0.56156,     0.56256,     0.56356,     0.56456,     0.56557,     0.56657,     0.56757,     0.56857,     0.56957,     0.57057,     0.57157,     0.57257,     0.57357,     0.57457,     0.57558,\n",
       "           0.57658,     0.57758,     0.57858,     0.57958,     0.58058,     0.58158,     0.58258,     0.58358,     0.58458,     0.58559,     0.58659,     0.58759,     0.58859,     0.58959,     0.59059,     0.59159,     0.59259,     0.59359,     0.59459,      0.5956,      0.5966,      0.5976,      0.5986,      0.5996,\n",
       "            0.6006,      0.6016,      0.6026,      0.6036,      0.6046,     0.60561,     0.60661,     0.60761,     0.60861,     0.60961,     0.61061,     0.61161,     0.61261,     0.61361,     0.61461,     0.61562,     0.61662,     0.61762,     0.61862,     0.61962,     0.62062,     0.62162,     0.62262,     0.62362,\n",
       "           0.62462,     0.62563,     0.62663,     0.62763,     0.62863,     0.62963,     0.63063,     0.63163,     0.63263,     0.63363,     0.63463,     0.63564,     0.63664,     0.63764,     0.63864,     0.63964,     0.64064,     0.64164,     0.64264,     0.64364,     0.64464,     0.64565,     0.64665,     0.64765,\n",
       "           0.64865,     0.64965,     0.65065,     0.65165,     0.65265,     0.65365,     0.65465,     0.65566,     0.65666,     0.65766,     0.65866,     0.65966,     0.66066,     0.66166,     0.66266,     0.66366,     0.66466,     0.66567,     0.66667,     0.66767,     0.66867,     0.66967,     0.67067,     0.67167,\n",
       "           0.67267,     0.67367,     0.67467,     0.67568,     0.67668,     0.67768,     0.67868,     0.67968,     0.68068,     0.68168,     0.68268,     0.68368,     0.68468,     0.68569,     0.68669,     0.68769,     0.68869,     0.68969,     0.69069,     0.69169,     0.69269,     0.69369,     0.69469,      0.6957,\n",
       "            0.6967,      0.6977,      0.6987,      0.6997,      0.7007,      0.7017,      0.7027,      0.7037,      0.7047,     0.70571,     0.70671,     0.70771,     0.70871,     0.70971,     0.71071,     0.71171,     0.71271,     0.71371,     0.71471,     0.71572,     0.71672,     0.71772,     0.71872,     0.71972,\n",
       "           0.72072,     0.72172,     0.72272,     0.72372,     0.72472,     0.72573,     0.72673,     0.72773,     0.72873,     0.72973,     0.73073,     0.73173,     0.73273,     0.73373,     0.73473,     0.73574,     0.73674,     0.73774,     0.73874,     0.73974,     0.74074,     0.74174,     0.74274,     0.74374,\n",
       "           0.74474,     0.74575,     0.74675,     0.74775,     0.74875,     0.74975,     0.75075,     0.75175,     0.75275,     0.75375,     0.75475,     0.75576,     0.75676,     0.75776,     0.75876,     0.75976,     0.76076,     0.76176,     0.76276,     0.76376,     0.76476,     0.76577,     0.76677,     0.76777,\n",
       "           0.76877,     0.76977,     0.77077,     0.77177,     0.77277,     0.77377,     0.77477,     0.77578,     0.77678,     0.77778,     0.77878,     0.77978,     0.78078,     0.78178,     0.78278,     0.78378,     0.78478,     0.78579,     0.78679,     0.78779,     0.78879,     0.78979,     0.79079,     0.79179,\n",
       "           0.79279,     0.79379,     0.79479,      0.7958,      0.7968,      0.7978,      0.7988,      0.7998,      0.8008,      0.8018,      0.8028,      0.8038,      0.8048,     0.80581,     0.80681,     0.80781,     0.80881,     0.80981,     0.81081,     0.81181,     0.81281,     0.81381,     0.81481,     0.81582,\n",
       "           0.81682,     0.81782,     0.81882,     0.81982,     0.82082,     0.82182,     0.82282,     0.82382,     0.82482,     0.82583,     0.82683,     0.82783,     0.82883,     0.82983,     0.83083,     0.83183,     0.83283,     0.83383,     0.83483,     0.83584,     0.83684,     0.83784,     0.83884,     0.83984,\n",
       "           0.84084,     0.84184,     0.84284,     0.84384,     0.84484,     0.84585,     0.84685,     0.84785,     0.84885,     0.84985,     0.85085,     0.85185,     0.85285,     0.85385,     0.85485,     0.85586,     0.85686,     0.85786,     0.85886,     0.85986,     0.86086,     0.86186,     0.86286,     0.86386,\n",
       "           0.86486,     0.86587,     0.86687,     0.86787,     0.86887,     0.86987,     0.87087,     0.87187,     0.87287,     0.87387,     0.87487,     0.87588,     0.87688,     0.87788,     0.87888,     0.87988,     0.88088,     0.88188,     0.88288,     0.88388,     0.88488,     0.88589,     0.88689,     0.88789,\n",
       "           0.88889,     0.88989,     0.89089,     0.89189,     0.89289,     0.89389,     0.89489,      0.8959,      0.8969,      0.8979,      0.8989,      0.8999,      0.9009,      0.9019,      0.9029,      0.9039,      0.9049,     0.90591,     0.90691,     0.90791,     0.90891,     0.90991,     0.91091,     0.91191,\n",
       "           0.91291,     0.91391,     0.91491,     0.91592,     0.91692,     0.91792,     0.91892,     0.91992,     0.92092,     0.92192,     0.92292,     0.92392,     0.92492,     0.92593,     0.92693,     0.92793,     0.92893,     0.92993,     0.93093,     0.93193,     0.93293,     0.93393,     0.93493,     0.93594,\n",
       "           0.93694,     0.93794,     0.93894,     0.93994,     0.94094,     0.94194,     0.94294,     0.94394,     0.94494,     0.94595,     0.94695,     0.94795,     0.94895,     0.94995,     0.95095,     0.95195,     0.95295,     0.95395,     0.95495,     0.95596,     0.95696,     0.95796,     0.95896,     0.95996,\n",
       "           0.96096,     0.96196,     0.96296,     0.96396,     0.96496,     0.96597,     0.96697,     0.96797,     0.96897,     0.96997,     0.97097,     0.97197,     0.97297,     0.97397,     0.97497,     0.97598,     0.97698,     0.97798,     0.97898,     0.97998,     0.98098,     0.98198,     0.98298,     0.98398,\n",
       "           0.98498,     0.98599,     0.98699,     0.98799,     0.98899,     0.98999,     0.99099,     0.99199,     0.99299,     0.99399,     0.99499,       0.996,       0.997,       0.998,       0.999,           1]), array([[    0.13779,     0.13779,     0.13779, ...,   0.0009954,   0.0004977,           0],\n",
       "       [    0.13855,     0.13855,     0.13855, ...,      0.1106,      0.1106,           0],\n",
       "       [          1,           1,           1, ...,           1,           1,           0],\n",
       "       ...,\n",
       "       [      0.125,       0.125,       0.125, ...,    0.086957,    0.086957,           0],\n",
       "       [        0.5,         0.5,         0.5, ...,         0.3,         0.3,           0],\n",
       "       [    0.17917,     0.17917,     0.17917, ...,   0.0042194,   0.0021097,           0]]), 'Recall', 'Precision'], [array([          0,    0.001001,    0.002002,    0.003003,    0.004004,    0.005005,    0.006006,    0.007007,    0.008008,    0.009009,     0.01001,    0.011011,    0.012012,    0.013013,    0.014014,    0.015015,    0.016016,    0.017017,    0.018018,    0.019019,     0.02002,    0.021021,    0.022022,    0.023023,\n",
       "          0.024024,    0.025025,    0.026026,    0.027027,    0.028028,    0.029029,     0.03003,    0.031031,    0.032032,    0.033033,    0.034034,    0.035035,    0.036036,    0.037037,    0.038038,    0.039039,     0.04004,    0.041041,    0.042042,    0.043043,    0.044044,    0.045045,    0.046046,    0.047047,\n",
       "          0.048048,    0.049049,     0.05005,    0.051051,    0.052052,    0.053053,    0.054054,    0.055055,    0.056056,    0.057057,    0.058058,    0.059059,     0.06006,    0.061061,    0.062062,    0.063063,    0.064064,    0.065065,    0.066066,    0.067067,    0.068068,    0.069069,     0.07007,    0.071071,\n",
       "          0.072072,    0.073073,    0.074074,    0.075075,    0.076076,    0.077077,    0.078078,    0.079079,     0.08008,    0.081081,    0.082082,    0.083083,    0.084084,    0.085085,    0.086086,    0.087087,    0.088088,    0.089089,     0.09009,    0.091091,    0.092092,    0.093093,    0.094094,    0.095095,\n",
       "          0.096096,    0.097097,    0.098098,    0.099099,      0.1001,      0.1011,      0.1021,      0.1031,      0.1041,     0.10511,     0.10611,     0.10711,     0.10811,     0.10911,     0.11011,     0.11111,     0.11211,     0.11311,     0.11411,     0.11512,     0.11612,     0.11712,     0.11812,     0.11912,\n",
       "           0.12012,     0.12112,     0.12212,     0.12312,     0.12412,     0.12513,     0.12613,     0.12713,     0.12813,     0.12913,     0.13013,     0.13113,     0.13213,     0.13313,     0.13413,     0.13514,     0.13614,     0.13714,     0.13814,     0.13914,     0.14014,     0.14114,     0.14214,     0.14314,\n",
       "           0.14414,     0.14515,     0.14615,     0.14715,     0.14815,     0.14915,     0.15015,     0.15115,     0.15215,     0.15315,     0.15415,     0.15516,     0.15616,     0.15716,     0.15816,     0.15916,     0.16016,     0.16116,     0.16216,     0.16316,     0.16416,     0.16517,     0.16617,     0.16717,\n",
       "           0.16817,     0.16917,     0.17017,     0.17117,     0.17217,     0.17317,     0.17417,     0.17518,     0.17618,     0.17718,     0.17818,     0.17918,     0.18018,     0.18118,     0.18218,     0.18318,     0.18418,     0.18519,     0.18619,     0.18719,     0.18819,     0.18919,     0.19019,     0.19119,\n",
       "           0.19219,     0.19319,     0.19419,      0.1952,      0.1962,      0.1972,      0.1982,      0.1992,      0.2002,      0.2012,      0.2022,      0.2032,      0.2042,     0.20521,     0.20621,     0.20721,     0.20821,     0.20921,     0.21021,     0.21121,     0.21221,     0.21321,     0.21421,     0.21522,\n",
       "           0.21622,     0.21722,     0.21822,     0.21922,     0.22022,     0.22122,     0.22222,     0.22322,     0.22422,     0.22523,     0.22623,     0.22723,     0.22823,     0.22923,     0.23023,     0.23123,     0.23223,     0.23323,     0.23423,     0.23524,     0.23624,     0.23724,     0.23824,     0.23924,\n",
       "           0.24024,     0.24124,     0.24224,     0.24324,     0.24424,     0.24525,     0.24625,     0.24725,     0.24825,     0.24925,     0.25025,     0.25125,     0.25225,     0.25325,     0.25425,     0.25526,     0.25626,     0.25726,     0.25826,     0.25926,     0.26026,     0.26126,     0.26226,     0.26326,\n",
       "           0.26426,     0.26527,     0.26627,     0.26727,     0.26827,     0.26927,     0.27027,     0.27127,     0.27227,     0.27327,     0.27427,     0.27528,     0.27628,     0.27728,     0.27828,     0.27928,     0.28028,     0.28128,     0.28228,     0.28328,     0.28428,     0.28529,     0.28629,     0.28729,\n",
       "           0.28829,     0.28929,     0.29029,     0.29129,     0.29229,     0.29329,     0.29429,      0.2953,      0.2963,      0.2973,      0.2983,      0.2993,      0.3003,      0.3013,      0.3023,      0.3033,      0.3043,     0.30531,     0.30631,     0.30731,     0.30831,     0.30931,     0.31031,     0.31131,\n",
       "           0.31231,     0.31331,     0.31431,     0.31532,     0.31632,     0.31732,     0.31832,     0.31932,     0.32032,     0.32132,     0.32232,     0.32332,     0.32432,     0.32533,     0.32633,     0.32733,     0.32833,     0.32933,     0.33033,     0.33133,     0.33233,     0.33333,     0.33433,     0.33534,\n",
       "           0.33634,     0.33734,     0.33834,     0.33934,     0.34034,     0.34134,     0.34234,     0.34334,     0.34434,     0.34535,     0.34635,     0.34735,     0.34835,     0.34935,     0.35035,     0.35135,     0.35235,     0.35335,     0.35435,     0.35536,     0.35636,     0.35736,     0.35836,     0.35936,\n",
       "           0.36036,     0.36136,     0.36236,     0.36336,     0.36436,     0.36537,     0.36637,     0.36737,     0.36837,     0.36937,     0.37037,     0.37137,     0.37237,     0.37337,     0.37437,     0.37538,     0.37638,     0.37738,     0.37838,     0.37938,     0.38038,     0.38138,     0.38238,     0.38338,\n",
       "           0.38438,     0.38539,     0.38639,     0.38739,     0.38839,     0.38939,     0.39039,     0.39139,     0.39239,     0.39339,     0.39439,      0.3954,      0.3964,      0.3974,      0.3984,      0.3994,      0.4004,      0.4014,      0.4024,      0.4034,      0.4044,     0.40541,     0.40641,     0.40741,\n",
       "           0.40841,     0.40941,     0.41041,     0.41141,     0.41241,     0.41341,     0.41441,     0.41542,     0.41642,     0.41742,     0.41842,     0.41942,     0.42042,     0.42142,     0.42242,     0.42342,     0.42442,     0.42543,     0.42643,     0.42743,     0.42843,     0.42943,     0.43043,     0.43143,\n",
       "           0.43243,     0.43343,     0.43443,     0.43544,     0.43644,     0.43744,     0.43844,     0.43944,     0.44044,     0.44144,     0.44244,     0.44344,     0.44444,     0.44545,     0.44645,     0.44745,     0.44845,     0.44945,     0.45045,     0.45145,     0.45245,     0.45345,     0.45445,     0.45546,\n",
       "           0.45646,     0.45746,     0.45846,     0.45946,     0.46046,     0.46146,     0.46246,     0.46346,     0.46446,     0.46547,     0.46647,     0.46747,     0.46847,     0.46947,     0.47047,     0.47147,     0.47247,     0.47347,     0.47447,     0.47548,     0.47648,     0.47748,     0.47848,     0.47948,\n",
       "           0.48048,     0.48148,     0.48248,     0.48348,     0.48448,     0.48549,     0.48649,     0.48749,     0.48849,     0.48949,     0.49049,     0.49149,     0.49249,     0.49349,     0.49449,      0.4955,      0.4965,      0.4975,      0.4985,      0.4995,      0.5005,      0.5015,      0.5025,      0.5035,\n",
       "            0.5045,     0.50551,     0.50651,     0.50751,     0.50851,     0.50951,     0.51051,     0.51151,     0.51251,     0.51351,     0.51451,     0.51552,     0.51652,     0.51752,     0.51852,     0.51952,     0.52052,     0.52152,     0.52252,     0.52352,     0.52452,     0.52553,     0.52653,     0.52753,\n",
       "           0.52853,     0.52953,     0.53053,     0.53153,     0.53253,     0.53353,     0.53453,     0.53554,     0.53654,     0.53754,     0.53854,     0.53954,     0.54054,     0.54154,     0.54254,     0.54354,     0.54454,     0.54555,     0.54655,     0.54755,     0.54855,     0.54955,     0.55055,     0.55155,\n",
       "           0.55255,     0.55355,     0.55455,     0.55556,     0.55656,     0.55756,     0.55856,     0.55956,     0.56056,     0.56156,     0.56256,     0.56356,     0.56456,     0.56557,     0.56657,     0.56757,     0.56857,     0.56957,     0.57057,     0.57157,     0.57257,     0.57357,     0.57457,     0.57558,\n",
       "           0.57658,     0.57758,     0.57858,     0.57958,     0.58058,     0.58158,     0.58258,     0.58358,     0.58458,     0.58559,     0.58659,     0.58759,     0.58859,     0.58959,     0.59059,     0.59159,     0.59259,     0.59359,     0.59459,      0.5956,      0.5966,      0.5976,      0.5986,      0.5996,\n",
       "            0.6006,      0.6016,      0.6026,      0.6036,      0.6046,     0.60561,     0.60661,     0.60761,     0.60861,     0.60961,     0.61061,     0.61161,     0.61261,     0.61361,     0.61461,     0.61562,     0.61662,     0.61762,     0.61862,     0.61962,     0.62062,     0.62162,     0.62262,     0.62362,\n",
       "           0.62462,     0.62563,     0.62663,     0.62763,     0.62863,     0.62963,     0.63063,     0.63163,     0.63263,     0.63363,     0.63463,     0.63564,     0.63664,     0.63764,     0.63864,     0.63964,     0.64064,     0.64164,     0.64264,     0.64364,     0.64464,     0.64565,     0.64665,     0.64765,\n",
       "           0.64865,     0.64965,     0.65065,     0.65165,     0.65265,     0.65365,     0.65465,     0.65566,     0.65666,     0.65766,     0.65866,     0.65966,     0.66066,     0.66166,     0.66266,     0.66366,     0.66466,     0.66567,     0.66667,     0.66767,     0.66867,     0.66967,     0.67067,     0.67167,\n",
       "           0.67267,     0.67367,     0.67467,     0.67568,     0.67668,     0.67768,     0.67868,     0.67968,     0.68068,     0.68168,     0.68268,     0.68368,     0.68468,     0.68569,     0.68669,     0.68769,     0.68869,     0.68969,     0.69069,     0.69169,     0.69269,     0.69369,     0.69469,      0.6957,\n",
       "            0.6967,      0.6977,      0.6987,      0.6997,      0.7007,      0.7017,      0.7027,      0.7037,      0.7047,     0.70571,     0.70671,     0.70771,     0.70871,     0.70971,     0.71071,     0.71171,     0.71271,     0.71371,     0.71471,     0.71572,     0.71672,     0.71772,     0.71872,     0.71972,\n",
       "           0.72072,     0.72172,     0.72272,     0.72372,     0.72472,     0.72573,     0.72673,     0.72773,     0.72873,     0.72973,     0.73073,     0.73173,     0.73273,     0.73373,     0.73473,     0.73574,     0.73674,     0.73774,     0.73874,     0.73974,     0.74074,     0.74174,     0.74274,     0.74374,\n",
       "           0.74474,     0.74575,     0.74675,     0.74775,     0.74875,     0.74975,     0.75075,     0.75175,     0.75275,     0.75375,     0.75475,     0.75576,     0.75676,     0.75776,     0.75876,     0.75976,     0.76076,     0.76176,     0.76276,     0.76376,     0.76476,     0.76577,     0.76677,     0.76777,\n",
       "           0.76877,     0.76977,     0.77077,     0.77177,     0.77277,     0.77377,     0.77477,     0.77578,     0.77678,     0.77778,     0.77878,     0.77978,     0.78078,     0.78178,     0.78278,     0.78378,     0.78478,     0.78579,     0.78679,     0.78779,     0.78879,     0.78979,     0.79079,     0.79179,\n",
       "           0.79279,     0.79379,     0.79479,      0.7958,      0.7968,      0.7978,      0.7988,      0.7998,      0.8008,      0.8018,      0.8028,      0.8038,      0.8048,     0.80581,     0.80681,     0.80781,     0.80881,     0.80981,     0.81081,     0.81181,     0.81281,     0.81381,     0.81481,     0.81582,\n",
       "           0.81682,     0.81782,     0.81882,     0.81982,     0.82082,     0.82182,     0.82282,     0.82382,     0.82482,     0.82583,     0.82683,     0.82783,     0.82883,     0.82983,     0.83083,     0.83183,     0.83283,     0.83383,     0.83483,     0.83584,     0.83684,     0.83784,     0.83884,     0.83984,\n",
       "           0.84084,     0.84184,     0.84284,     0.84384,     0.84484,     0.84585,     0.84685,     0.84785,     0.84885,     0.84985,     0.85085,     0.85185,     0.85285,     0.85385,     0.85485,     0.85586,     0.85686,     0.85786,     0.85886,     0.85986,     0.86086,     0.86186,     0.86286,     0.86386,\n",
       "           0.86486,     0.86587,     0.86687,     0.86787,     0.86887,     0.86987,     0.87087,     0.87187,     0.87287,     0.87387,     0.87487,     0.87588,     0.87688,     0.87788,     0.87888,     0.87988,     0.88088,     0.88188,     0.88288,     0.88388,     0.88488,     0.88589,     0.88689,     0.88789,\n",
       "           0.88889,     0.88989,     0.89089,     0.89189,     0.89289,     0.89389,     0.89489,      0.8959,      0.8969,      0.8979,      0.8989,      0.8999,      0.9009,      0.9019,      0.9029,      0.9039,      0.9049,     0.90591,     0.90691,     0.90791,     0.90891,     0.90991,     0.91091,     0.91191,\n",
       "           0.91291,     0.91391,     0.91491,     0.91592,     0.91692,     0.91792,     0.91892,     0.91992,     0.92092,     0.92192,     0.92292,     0.92392,     0.92492,     0.92593,     0.92693,     0.92793,     0.92893,     0.92993,     0.93093,     0.93193,     0.93293,     0.93393,     0.93493,     0.93594,\n",
       "           0.93694,     0.93794,     0.93894,     0.93994,     0.94094,     0.94194,     0.94294,     0.94394,     0.94494,     0.94595,     0.94695,     0.94795,     0.94895,     0.94995,     0.95095,     0.95195,     0.95295,     0.95395,     0.95495,     0.95596,     0.95696,     0.95796,     0.95896,     0.95996,\n",
       "           0.96096,     0.96196,     0.96296,     0.96396,     0.96496,     0.96597,     0.96697,     0.96797,     0.96897,     0.96997,     0.97097,     0.97197,     0.97297,     0.97397,     0.97497,     0.97598,     0.97698,     0.97798,     0.97898,     0.97998,     0.98098,     0.98198,     0.98298,     0.98398,\n",
       "           0.98498,     0.98599,     0.98699,     0.98799,     0.98899,     0.98999,     0.99099,     0.99199,     0.99299,     0.99399,     0.99499,       0.996,       0.997,       0.998,       0.999,           1]), array([[   0.070842,    0.070842,    0.097175, ...,           0,           0,           0],\n",
       "       [   0.049383,    0.049383,    0.070687, ...,           0,           0,           0],\n",
       "       [  0.0017167,   0.0017167,   0.0035965, ...,           0,           0,           0],\n",
       "       ...,\n",
       "       [   0.013423,    0.013423,    0.023974, ...,           0,           0,           0],\n",
       "       [       0.15,        0.15,     0.22751, ...,           0,           0,           0],\n",
       "       [   0.077367,    0.077367,     0.11103, ...,           0,           0,           0]]), 'Confidence', 'F1'], [array([          0,    0.001001,    0.002002,    0.003003,    0.004004,    0.005005,    0.006006,    0.007007,    0.008008,    0.009009,     0.01001,    0.011011,    0.012012,    0.013013,    0.014014,    0.015015,    0.016016,    0.017017,    0.018018,    0.019019,     0.02002,    0.021021,    0.022022,    0.023023,\n",
       "          0.024024,    0.025025,    0.026026,    0.027027,    0.028028,    0.029029,     0.03003,    0.031031,    0.032032,    0.033033,    0.034034,    0.035035,    0.036036,    0.037037,    0.038038,    0.039039,     0.04004,    0.041041,    0.042042,    0.043043,    0.044044,    0.045045,    0.046046,    0.047047,\n",
       "          0.048048,    0.049049,     0.05005,    0.051051,    0.052052,    0.053053,    0.054054,    0.055055,    0.056056,    0.057057,    0.058058,    0.059059,     0.06006,    0.061061,    0.062062,    0.063063,    0.064064,    0.065065,    0.066066,    0.067067,    0.068068,    0.069069,     0.07007,    0.071071,\n",
       "          0.072072,    0.073073,    0.074074,    0.075075,    0.076076,    0.077077,    0.078078,    0.079079,     0.08008,    0.081081,    0.082082,    0.083083,    0.084084,    0.085085,    0.086086,    0.087087,    0.088088,    0.089089,     0.09009,    0.091091,    0.092092,    0.093093,    0.094094,    0.095095,\n",
       "          0.096096,    0.097097,    0.098098,    0.099099,      0.1001,      0.1011,      0.1021,      0.1031,      0.1041,     0.10511,     0.10611,     0.10711,     0.10811,     0.10911,     0.11011,     0.11111,     0.11211,     0.11311,     0.11411,     0.11512,     0.11612,     0.11712,     0.11812,     0.11912,\n",
       "           0.12012,     0.12112,     0.12212,     0.12312,     0.12412,     0.12513,     0.12613,     0.12713,     0.12813,     0.12913,     0.13013,     0.13113,     0.13213,     0.13313,     0.13413,     0.13514,     0.13614,     0.13714,     0.13814,     0.13914,     0.14014,     0.14114,     0.14214,     0.14314,\n",
       "           0.14414,     0.14515,     0.14615,     0.14715,     0.14815,     0.14915,     0.15015,     0.15115,     0.15215,     0.15315,     0.15415,     0.15516,     0.15616,     0.15716,     0.15816,     0.15916,     0.16016,     0.16116,     0.16216,     0.16316,     0.16416,     0.16517,     0.16617,     0.16717,\n",
       "           0.16817,     0.16917,     0.17017,     0.17117,     0.17217,     0.17317,     0.17417,     0.17518,     0.17618,     0.17718,     0.17818,     0.17918,     0.18018,     0.18118,     0.18218,     0.18318,     0.18418,     0.18519,     0.18619,     0.18719,     0.18819,     0.18919,     0.19019,     0.19119,\n",
       "           0.19219,     0.19319,     0.19419,      0.1952,      0.1962,      0.1972,      0.1982,      0.1992,      0.2002,      0.2012,      0.2022,      0.2032,      0.2042,     0.20521,     0.20621,     0.20721,     0.20821,     0.20921,     0.21021,     0.21121,     0.21221,     0.21321,     0.21421,     0.21522,\n",
       "           0.21622,     0.21722,     0.21822,     0.21922,     0.22022,     0.22122,     0.22222,     0.22322,     0.22422,     0.22523,     0.22623,     0.22723,     0.22823,     0.22923,     0.23023,     0.23123,     0.23223,     0.23323,     0.23423,     0.23524,     0.23624,     0.23724,     0.23824,     0.23924,\n",
       "           0.24024,     0.24124,     0.24224,     0.24324,     0.24424,     0.24525,     0.24625,     0.24725,     0.24825,     0.24925,     0.25025,     0.25125,     0.25225,     0.25325,     0.25425,     0.25526,     0.25626,     0.25726,     0.25826,     0.25926,     0.26026,     0.26126,     0.26226,     0.26326,\n",
       "           0.26426,     0.26527,     0.26627,     0.26727,     0.26827,     0.26927,     0.27027,     0.27127,     0.27227,     0.27327,     0.27427,     0.27528,     0.27628,     0.27728,     0.27828,     0.27928,     0.28028,     0.28128,     0.28228,     0.28328,     0.28428,     0.28529,     0.28629,     0.28729,\n",
       "           0.28829,     0.28929,     0.29029,     0.29129,     0.29229,     0.29329,     0.29429,      0.2953,      0.2963,      0.2973,      0.2983,      0.2993,      0.3003,      0.3013,      0.3023,      0.3033,      0.3043,     0.30531,     0.30631,     0.30731,     0.30831,     0.30931,     0.31031,     0.31131,\n",
       "           0.31231,     0.31331,     0.31431,     0.31532,     0.31632,     0.31732,     0.31832,     0.31932,     0.32032,     0.32132,     0.32232,     0.32332,     0.32432,     0.32533,     0.32633,     0.32733,     0.32833,     0.32933,     0.33033,     0.33133,     0.33233,     0.33333,     0.33433,     0.33534,\n",
       "           0.33634,     0.33734,     0.33834,     0.33934,     0.34034,     0.34134,     0.34234,     0.34334,     0.34434,     0.34535,     0.34635,     0.34735,     0.34835,     0.34935,     0.35035,     0.35135,     0.35235,     0.35335,     0.35435,     0.35536,     0.35636,     0.35736,     0.35836,     0.35936,\n",
       "           0.36036,     0.36136,     0.36236,     0.36336,     0.36436,     0.36537,     0.36637,     0.36737,     0.36837,     0.36937,     0.37037,     0.37137,     0.37237,     0.37337,     0.37437,     0.37538,     0.37638,     0.37738,     0.37838,     0.37938,     0.38038,     0.38138,     0.38238,     0.38338,\n",
       "           0.38438,     0.38539,     0.38639,     0.38739,     0.38839,     0.38939,     0.39039,     0.39139,     0.39239,     0.39339,     0.39439,      0.3954,      0.3964,      0.3974,      0.3984,      0.3994,      0.4004,      0.4014,      0.4024,      0.4034,      0.4044,     0.40541,     0.40641,     0.40741,\n",
       "           0.40841,     0.40941,     0.41041,     0.41141,     0.41241,     0.41341,     0.41441,     0.41542,     0.41642,     0.41742,     0.41842,     0.41942,     0.42042,     0.42142,     0.42242,     0.42342,     0.42442,     0.42543,     0.42643,     0.42743,     0.42843,     0.42943,     0.43043,     0.43143,\n",
       "           0.43243,     0.43343,     0.43443,     0.43544,     0.43644,     0.43744,     0.43844,     0.43944,     0.44044,     0.44144,     0.44244,     0.44344,     0.44444,     0.44545,     0.44645,     0.44745,     0.44845,     0.44945,     0.45045,     0.45145,     0.45245,     0.45345,     0.45445,     0.45546,\n",
       "           0.45646,     0.45746,     0.45846,     0.45946,     0.46046,     0.46146,     0.46246,     0.46346,     0.46446,     0.46547,     0.46647,     0.46747,     0.46847,     0.46947,     0.47047,     0.47147,     0.47247,     0.47347,     0.47447,     0.47548,     0.47648,     0.47748,     0.47848,     0.47948,\n",
       "           0.48048,     0.48148,     0.48248,     0.48348,     0.48448,     0.48549,     0.48649,     0.48749,     0.48849,     0.48949,     0.49049,     0.49149,     0.49249,     0.49349,     0.49449,      0.4955,      0.4965,      0.4975,      0.4985,      0.4995,      0.5005,      0.5015,      0.5025,      0.5035,\n",
       "            0.5045,     0.50551,     0.50651,     0.50751,     0.50851,     0.50951,     0.51051,     0.51151,     0.51251,     0.51351,     0.51451,     0.51552,     0.51652,     0.51752,     0.51852,     0.51952,     0.52052,     0.52152,     0.52252,     0.52352,     0.52452,     0.52553,     0.52653,     0.52753,\n",
       "           0.52853,     0.52953,     0.53053,     0.53153,     0.53253,     0.53353,     0.53453,     0.53554,     0.53654,     0.53754,     0.53854,     0.53954,     0.54054,     0.54154,     0.54254,     0.54354,     0.54454,     0.54555,     0.54655,     0.54755,     0.54855,     0.54955,     0.55055,     0.55155,\n",
       "           0.55255,     0.55355,     0.55455,     0.55556,     0.55656,     0.55756,     0.55856,     0.55956,     0.56056,     0.56156,     0.56256,     0.56356,     0.56456,     0.56557,     0.56657,     0.56757,     0.56857,     0.56957,     0.57057,     0.57157,     0.57257,     0.57357,     0.57457,     0.57558,\n",
       "           0.57658,     0.57758,     0.57858,     0.57958,     0.58058,     0.58158,     0.58258,     0.58358,     0.58458,     0.58559,     0.58659,     0.58759,     0.58859,     0.58959,     0.59059,     0.59159,     0.59259,     0.59359,     0.59459,      0.5956,      0.5966,      0.5976,      0.5986,      0.5996,\n",
       "            0.6006,      0.6016,      0.6026,      0.6036,      0.6046,     0.60561,     0.60661,     0.60761,     0.60861,     0.60961,     0.61061,     0.61161,     0.61261,     0.61361,     0.61461,     0.61562,     0.61662,     0.61762,     0.61862,     0.61962,     0.62062,     0.62162,     0.62262,     0.62362,\n",
       "           0.62462,     0.62563,     0.62663,     0.62763,     0.62863,     0.62963,     0.63063,     0.63163,     0.63263,     0.63363,     0.63463,     0.63564,     0.63664,     0.63764,     0.63864,     0.63964,     0.64064,     0.64164,     0.64264,     0.64364,     0.64464,     0.64565,     0.64665,     0.64765,\n",
       "           0.64865,     0.64965,     0.65065,     0.65165,     0.65265,     0.65365,     0.65465,     0.65566,     0.65666,     0.65766,     0.65866,     0.65966,     0.66066,     0.66166,     0.66266,     0.66366,     0.66466,     0.66567,     0.66667,     0.66767,     0.66867,     0.66967,     0.67067,     0.67167,\n",
       "           0.67267,     0.67367,     0.67467,     0.67568,     0.67668,     0.67768,     0.67868,     0.67968,     0.68068,     0.68168,     0.68268,     0.68368,     0.68468,     0.68569,     0.68669,     0.68769,     0.68869,     0.68969,     0.69069,     0.69169,     0.69269,     0.69369,     0.69469,      0.6957,\n",
       "            0.6967,      0.6977,      0.6987,      0.6997,      0.7007,      0.7017,      0.7027,      0.7037,      0.7047,     0.70571,     0.70671,     0.70771,     0.70871,     0.70971,     0.71071,     0.71171,     0.71271,     0.71371,     0.71471,     0.71572,     0.71672,     0.71772,     0.71872,     0.71972,\n",
       "           0.72072,     0.72172,     0.72272,     0.72372,     0.72472,     0.72573,     0.72673,     0.72773,     0.72873,     0.72973,     0.73073,     0.73173,     0.73273,     0.73373,     0.73473,     0.73574,     0.73674,     0.73774,     0.73874,     0.73974,     0.74074,     0.74174,     0.74274,     0.74374,\n",
       "           0.74474,     0.74575,     0.74675,     0.74775,     0.74875,     0.74975,     0.75075,     0.75175,     0.75275,     0.75375,     0.75475,     0.75576,     0.75676,     0.75776,     0.75876,     0.75976,     0.76076,     0.76176,     0.76276,     0.76376,     0.76476,     0.76577,     0.76677,     0.76777,\n",
       "           0.76877,     0.76977,     0.77077,     0.77177,     0.77277,     0.77377,     0.77477,     0.77578,     0.77678,     0.77778,     0.77878,     0.77978,     0.78078,     0.78178,     0.78278,     0.78378,     0.78478,     0.78579,     0.78679,     0.78779,     0.78879,     0.78979,     0.79079,     0.79179,\n",
       "           0.79279,     0.79379,     0.79479,      0.7958,      0.7968,      0.7978,      0.7988,      0.7998,      0.8008,      0.8018,      0.8028,      0.8038,      0.8048,     0.80581,     0.80681,     0.80781,     0.80881,     0.80981,     0.81081,     0.81181,     0.81281,     0.81381,     0.81481,     0.81582,\n",
       "           0.81682,     0.81782,     0.81882,     0.81982,     0.82082,     0.82182,     0.82282,     0.82382,     0.82482,     0.82583,     0.82683,     0.82783,     0.82883,     0.82983,     0.83083,     0.83183,     0.83283,     0.83383,     0.83483,     0.83584,     0.83684,     0.83784,     0.83884,     0.83984,\n",
       "           0.84084,     0.84184,     0.84284,     0.84384,     0.84484,     0.84585,     0.84685,     0.84785,     0.84885,     0.84985,     0.85085,     0.85185,     0.85285,     0.85385,     0.85485,     0.85586,     0.85686,     0.85786,     0.85886,     0.85986,     0.86086,     0.86186,     0.86286,     0.86386,\n",
       "           0.86486,     0.86587,     0.86687,     0.86787,     0.86887,     0.86987,     0.87087,     0.87187,     0.87287,     0.87387,     0.87487,     0.87588,     0.87688,     0.87788,     0.87888,     0.87988,     0.88088,     0.88188,     0.88288,     0.88388,     0.88488,     0.88589,     0.88689,     0.88789,\n",
       "           0.88889,     0.88989,     0.89089,     0.89189,     0.89289,     0.89389,     0.89489,      0.8959,      0.8969,      0.8979,      0.8989,      0.8999,      0.9009,      0.9019,      0.9029,      0.9039,      0.9049,     0.90591,     0.90691,     0.90791,     0.90891,     0.90991,     0.91091,     0.91191,\n",
       "           0.91291,     0.91391,     0.91491,     0.91592,     0.91692,     0.91792,     0.91892,     0.91992,     0.92092,     0.92192,     0.92292,     0.92392,     0.92492,     0.92593,     0.92693,     0.92793,     0.92893,     0.92993,     0.93093,     0.93193,     0.93293,     0.93393,     0.93493,     0.93594,\n",
       "           0.93694,     0.93794,     0.93894,     0.93994,     0.94094,     0.94194,     0.94294,     0.94394,     0.94494,     0.94595,     0.94695,     0.94795,     0.94895,     0.94995,     0.95095,     0.95195,     0.95295,     0.95395,     0.95495,     0.95596,     0.95696,     0.95796,     0.95896,     0.95996,\n",
       "           0.96096,     0.96196,     0.96296,     0.96396,     0.96496,     0.96597,     0.96697,     0.96797,     0.96897,     0.96997,     0.97097,     0.97197,     0.97297,     0.97397,     0.97497,     0.97598,     0.97698,     0.97798,     0.97898,     0.97998,     0.98098,     0.98198,     0.98298,     0.98398,\n",
       "           0.98498,     0.98599,     0.98699,     0.98799,     0.98899,     0.98999,     0.99099,     0.99199,     0.99299,     0.99399,     0.99499,       0.996,       0.997,       0.998,       0.999,           1]), array([[    0.03683,     0.03683,    0.051301, ...,           1,           1,           1],\n",
       "       [   0.025316,    0.025316,    0.036639, ...,           1,           1,           1],\n",
       "       [ 0.00085911,  0.00085911,   0.0018015, ...,           1,           1,           1],\n",
       "       ...,\n",
       "       [  0.0067568,   0.0067568,    0.012132, ...,           1,           1,           1],\n",
       "       [   0.081081,    0.081081,     0.12836, ...,           1,           1,           1],\n",
       "       [   0.040272,    0.040272,    0.058867, ...,           1,           1,           1]]), 'Confidence', 'Precision'], [array([          0,    0.001001,    0.002002,    0.003003,    0.004004,    0.005005,    0.006006,    0.007007,    0.008008,    0.009009,     0.01001,    0.011011,    0.012012,    0.013013,    0.014014,    0.015015,    0.016016,    0.017017,    0.018018,    0.019019,     0.02002,    0.021021,    0.022022,    0.023023,\n",
       "          0.024024,    0.025025,    0.026026,    0.027027,    0.028028,    0.029029,     0.03003,    0.031031,    0.032032,    0.033033,    0.034034,    0.035035,    0.036036,    0.037037,    0.038038,    0.039039,     0.04004,    0.041041,    0.042042,    0.043043,    0.044044,    0.045045,    0.046046,    0.047047,\n",
       "          0.048048,    0.049049,     0.05005,    0.051051,    0.052052,    0.053053,    0.054054,    0.055055,    0.056056,    0.057057,    0.058058,    0.059059,     0.06006,    0.061061,    0.062062,    0.063063,    0.064064,    0.065065,    0.066066,    0.067067,    0.068068,    0.069069,     0.07007,    0.071071,\n",
       "          0.072072,    0.073073,    0.074074,    0.075075,    0.076076,    0.077077,    0.078078,    0.079079,     0.08008,    0.081081,    0.082082,    0.083083,    0.084084,    0.085085,    0.086086,    0.087087,    0.088088,    0.089089,     0.09009,    0.091091,    0.092092,    0.093093,    0.094094,    0.095095,\n",
       "          0.096096,    0.097097,    0.098098,    0.099099,      0.1001,      0.1011,      0.1021,      0.1031,      0.1041,     0.10511,     0.10611,     0.10711,     0.10811,     0.10911,     0.11011,     0.11111,     0.11211,     0.11311,     0.11411,     0.11512,     0.11612,     0.11712,     0.11812,     0.11912,\n",
       "           0.12012,     0.12112,     0.12212,     0.12312,     0.12412,     0.12513,     0.12613,     0.12713,     0.12813,     0.12913,     0.13013,     0.13113,     0.13213,     0.13313,     0.13413,     0.13514,     0.13614,     0.13714,     0.13814,     0.13914,     0.14014,     0.14114,     0.14214,     0.14314,\n",
       "           0.14414,     0.14515,     0.14615,     0.14715,     0.14815,     0.14915,     0.15015,     0.15115,     0.15215,     0.15315,     0.15415,     0.15516,     0.15616,     0.15716,     0.15816,     0.15916,     0.16016,     0.16116,     0.16216,     0.16316,     0.16416,     0.16517,     0.16617,     0.16717,\n",
       "           0.16817,     0.16917,     0.17017,     0.17117,     0.17217,     0.17317,     0.17417,     0.17518,     0.17618,     0.17718,     0.17818,     0.17918,     0.18018,     0.18118,     0.18218,     0.18318,     0.18418,     0.18519,     0.18619,     0.18719,     0.18819,     0.18919,     0.19019,     0.19119,\n",
       "           0.19219,     0.19319,     0.19419,      0.1952,      0.1962,      0.1972,      0.1982,      0.1992,      0.2002,      0.2012,      0.2022,      0.2032,      0.2042,     0.20521,     0.20621,     0.20721,     0.20821,     0.20921,     0.21021,     0.21121,     0.21221,     0.21321,     0.21421,     0.21522,\n",
       "           0.21622,     0.21722,     0.21822,     0.21922,     0.22022,     0.22122,     0.22222,     0.22322,     0.22422,     0.22523,     0.22623,     0.22723,     0.22823,     0.22923,     0.23023,     0.23123,     0.23223,     0.23323,     0.23423,     0.23524,     0.23624,     0.23724,     0.23824,     0.23924,\n",
       "           0.24024,     0.24124,     0.24224,     0.24324,     0.24424,     0.24525,     0.24625,     0.24725,     0.24825,     0.24925,     0.25025,     0.25125,     0.25225,     0.25325,     0.25425,     0.25526,     0.25626,     0.25726,     0.25826,     0.25926,     0.26026,     0.26126,     0.26226,     0.26326,\n",
       "           0.26426,     0.26527,     0.26627,     0.26727,     0.26827,     0.26927,     0.27027,     0.27127,     0.27227,     0.27327,     0.27427,     0.27528,     0.27628,     0.27728,     0.27828,     0.27928,     0.28028,     0.28128,     0.28228,     0.28328,     0.28428,     0.28529,     0.28629,     0.28729,\n",
       "           0.28829,     0.28929,     0.29029,     0.29129,     0.29229,     0.29329,     0.29429,      0.2953,      0.2963,      0.2973,      0.2983,      0.2993,      0.3003,      0.3013,      0.3023,      0.3033,      0.3043,     0.30531,     0.30631,     0.30731,     0.30831,     0.30931,     0.31031,     0.31131,\n",
       "           0.31231,     0.31331,     0.31431,     0.31532,     0.31632,     0.31732,     0.31832,     0.31932,     0.32032,     0.32132,     0.32232,     0.32332,     0.32432,     0.32533,     0.32633,     0.32733,     0.32833,     0.32933,     0.33033,     0.33133,     0.33233,     0.33333,     0.33433,     0.33534,\n",
       "           0.33634,     0.33734,     0.33834,     0.33934,     0.34034,     0.34134,     0.34234,     0.34334,     0.34434,     0.34535,     0.34635,     0.34735,     0.34835,     0.34935,     0.35035,     0.35135,     0.35235,     0.35335,     0.35435,     0.35536,     0.35636,     0.35736,     0.35836,     0.35936,\n",
       "           0.36036,     0.36136,     0.36236,     0.36336,     0.36436,     0.36537,     0.36637,     0.36737,     0.36837,     0.36937,     0.37037,     0.37137,     0.37237,     0.37337,     0.37437,     0.37538,     0.37638,     0.37738,     0.37838,     0.37938,     0.38038,     0.38138,     0.38238,     0.38338,\n",
       "           0.38438,     0.38539,     0.38639,     0.38739,     0.38839,     0.38939,     0.39039,     0.39139,     0.39239,     0.39339,     0.39439,      0.3954,      0.3964,      0.3974,      0.3984,      0.3994,      0.4004,      0.4014,      0.4024,      0.4034,      0.4044,     0.40541,     0.40641,     0.40741,\n",
       "           0.40841,     0.40941,     0.41041,     0.41141,     0.41241,     0.41341,     0.41441,     0.41542,     0.41642,     0.41742,     0.41842,     0.41942,     0.42042,     0.42142,     0.42242,     0.42342,     0.42442,     0.42543,     0.42643,     0.42743,     0.42843,     0.42943,     0.43043,     0.43143,\n",
       "           0.43243,     0.43343,     0.43443,     0.43544,     0.43644,     0.43744,     0.43844,     0.43944,     0.44044,     0.44144,     0.44244,     0.44344,     0.44444,     0.44545,     0.44645,     0.44745,     0.44845,     0.44945,     0.45045,     0.45145,     0.45245,     0.45345,     0.45445,     0.45546,\n",
       "           0.45646,     0.45746,     0.45846,     0.45946,     0.46046,     0.46146,     0.46246,     0.46346,     0.46446,     0.46547,     0.46647,     0.46747,     0.46847,     0.46947,     0.47047,     0.47147,     0.47247,     0.47347,     0.47447,     0.47548,     0.47648,     0.47748,     0.47848,     0.47948,\n",
       "           0.48048,     0.48148,     0.48248,     0.48348,     0.48448,     0.48549,     0.48649,     0.48749,     0.48849,     0.48949,     0.49049,     0.49149,     0.49249,     0.49349,     0.49449,      0.4955,      0.4965,      0.4975,      0.4985,      0.4995,      0.5005,      0.5015,      0.5025,      0.5035,\n",
       "            0.5045,     0.50551,     0.50651,     0.50751,     0.50851,     0.50951,     0.51051,     0.51151,     0.51251,     0.51351,     0.51451,     0.51552,     0.51652,     0.51752,     0.51852,     0.51952,     0.52052,     0.52152,     0.52252,     0.52352,     0.52452,     0.52553,     0.52653,     0.52753,\n",
       "           0.52853,     0.52953,     0.53053,     0.53153,     0.53253,     0.53353,     0.53453,     0.53554,     0.53654,     0.53754,     0.53854,     0.53954,     0.54054,     0.54154,     0.54254,     0.54354,     0.54454,     0.54555,     0.54655,     0.54755,     0.54855,     0.54955,     0.55055,     0.55155,\n",
       "           0.55255,     0.55355,     0.55455,     0.55556,     0.55656,     0.55756,     0.55856,     0.55956,     0.56056,     0.56156,     0.56256,     0.56356,     0.56456,     0.56557,     0.56657,     0.56757,     0.56857,     0.56957,     0.57057,     0.57157,     0.57257,     0.57357,     0.57457,     0.57558,\n",
       "           0.57658,     0.57758,     0.57858,     0.57958,     0.58058,     0.58158,     0.58258,     0.58358,     0.58458,     0.58559,     0.58659,     0.58759,     0.58859,     0.58959,     0.59059,     0.59159,     0.59259,     0.59359,     0.59459,      0.5956,      0.5966,      0.5976,      0.5986,      0.5996,\n",
       "            0.6006,      0.6016,      0.6026,      0.6036,      0.6046,     0.60561,     0.60661,     0.60761,     0.60861,     0.60961,     0.61061,     0.61161,     0.61261,     0.61361,     0.61461,     0.61562,     0.61662,     0.61762,     0.61862,     0.61962,     0.62062,     0.62162,     0.62262,     0.62362,\n",
       "           0.62462,     0.62563,     0.62663,     0.62763,     0.62863,     0.62963,     0.63063,     0.63163,     0.63263,     0.63363,     0.63463,     0.63564,     0.63664,     0.63764,     0.63864,     0.63964,     0.64064,     0.64164,     0.64264,     0.64364,     0.64464,     0.64565,     0.64665,     0.64765,\n",
       "           0.64865,     0.64965,     0.65065,     0.65165,     0.65265,     0.65365,     0.65465,     0.65566,     0.65666,     0.65766,     0.65866,     0.65966,     0.66066,     0.66166,     0.66266,     0.66366,     0.66466,     0.66567,     0.66667,     0.66767,     0.66867,     0.66967,     0.67067,     0.67167,\n",
       "           0.67267,     0.67367,     0.67467,     0.67568,     0.67668,     0.67768,     0.67868,     0.67968,     0.68068,     0.68168,     0.68268,     0.68368,     0.68468,     0.68569,     0.68669,     0.68769,     0.68869,     0.68969,     0.69069,     0.69169,     0.69269,     0.69369,     0.69469,      0.6957,\n",
       "            0.6967,      0.6977,      0.6987,      0.6997,      0.7007,      0.7017,      0.7027,      0.7037,      0.7047,     0.70571,     0.70671,     0.70771,     0.70871,     0.70971,     0.71071,     0.71171,     0.71271,     0.71371,     0.71471,     0.71572,     0.71672,     0.71772,     0.71872,     0.71972,\n",
       "           0.72072,     0.72172,     0.72272,     0.72372,     0.72472,     0.72573,     0.72673,     0.72773,     0.72873,     0.72973,     0.73073,     0.73173,     0.73273,     0.73373,     0.73473,     0.73574,     0.73674,     0.73774,     0.73874,     0.73974,     0.74074,     0.74174,     0.74274,     0.74374,\n",
       "           0.74474,     0.74575,     0.74675,     0.74775,     0.74875,     0.74975,     0.75075,     0.75175,     0.75275,     0.75375,     0.75475,     0.75576,     0.75676,     0.75776,     0.75876,     0.75976,     0.76076,     0.76176,     0.76276,     0.76376,     0.76476,     0.76577,     0.76677,     0.76777,\n",
       "           0.76877,     0.76977,     0.77077,     0.77177,     0.77277,     0.77377,     0.77477,     0.77578,     0.77678,     0.77778,     0.77878,     0.77978,     0.78078,     0.78178,     0.78278,     0.78378,     0.78478,     0.78579,     0.78679,     0.78779,     0.78879,     0.78979,     0.79079,     0.79179,\n",
       "           0.79279,     0.79379,     0.79479,      0.7958,      0.7968,      0.7978,      0.7988,      0.7998,      0.8008,      0.8018,      0.8028,      0.8038,      0.8048,     0.80581,     0.80681,     0.80781,     0.80881,     0.80981,     0.81081,     0.81181,     0.81281,     0.81381,     0.81481,     0.81582,\n",
       "           0.81682,     0.81782,     0.81882,     0.81982,     0.82082,     0.82182,     0.82282,     0.82382,     0.82482,     0.82583,     0.82683,     0.82783,     0.82883,     0.82983,     0.83083,     0.83183,     0.83283,     0.83383,     0.83483,     0.83584,     0.83684,     0.83784,     0.83884,     0.83984,\n",
       "           0.84084,     0.84184,     0.84284,     0.84384,     0.84484,     0.84585,     0.84685,     0.84785,     0.84885,     0.84985,     0.85085,     0.85185,     0.85285,     0.85385,     0.85485,     0.85586,     0.85686,     0.85786,     0.85886,     0.85986,     0.86086,     0.86186,     0.86286,     0.86386,\n",
       "           0.86486,     0.86587,     0.86687,     0.86787,     0.86887,     0.86987,     0.87087,     0.87187,     0.87287,     0.87387,     0.87487,     0.87588,     0.87688,     0.87788,     0.87888,     0.87988,     0.88088,     0.88188,     0.88288,     0.88388,     0.88488,     0.88589,     0.88689,     0.88789,\n",
       "           0.88889,     0.88989,     0.89089,     0.89189,     0.89289,     0.89389,     0.89489,      0.8959,      0.8969,      0.8979,      0.8989,      0.8999,      0.9009,      0.9019,      0.9029,      0.9039,      0.9049,     0.90591,     0.90691,     0.90791,     0.90891,     0.90991,     0.91091,     0.91191,\n",
       "           0.91291,     0.91391,     0.91491,     0.91592,     0.91692,     0.91792,     0.91892,     0.91992,     0.92092,     0.92192,     0.92292,     0.92392,     0.92492,     0.92593,     0.92693,     0.92793,     0.92893,     0.92993,     0.93093,     0.93193,     0.93293,     0.93393,     0.93493,     0.93594,\n",
       "           0.93694,     0.93794,     0.93894,     0.93994,     0.94094,     0.94194,     0.94294,     0.94394,     0.94494,     0.94595,     0.94695,     0.94795,     0.94895,     0.94995,     0.95095,     0.95195,     0.95295,     0.95395,     0.95495,     0.95596,     0.95696,     0.95796,     0.95896,     0.95996,\n",
       "           0.96096,     0.96196,     0.96296,     0.96396,     0.96496,     0.96597,     0.96697,     0.96797,     0.96897,     0.96997,     0.97097,     0.97197,     0.97297,     0.97397,     0.97497,     0.97598,     0.97698,     0.97798,     0.97898,     0.97998,     0.98098,     0.98198,     0.98298,     0.98398,\n",
       "           0.98498,     0.98599,     0.98699,     0.98799,     0.98899,     0.98999,     0.99099,     0.99199,     0.99299,     0.99399,     0.99499,       0.996,       0.997,       0.998,       0.999,           1]), array([[    0.92593,     0.92593,     0.91852, ...,           0,           0,           0],\n",
       "       [          1,           1,           1, ...,           0,           0,           0],\n",
       "       [          1,           1,           1, ...,           0,           0,           0],\n",
       "       ...,\n",
       "       [          1,           1,           1, ...,           0,           0,           0],\n",
       "       [          1,           1,           1, ...,           0,           0,           0],\n",
       "       [    0.98089,     0.98089,     0.97452, ...,           0,           0,           0]]), 'Confidence', 'Recall']]\n",
       "fitness: 0.19878249317837468\n",
       "keys: ['metrics/precision(B)', 'metrics/recall(B)', 'metrics/mAP50(B)', 'metrics/mAP50-95(B)']\n",
       "maps: array([   0.070168,     0.11132,      0.1926,      0.6965,      0.1926,     0.11232,      0.1926,    0.071919,    0.098277,      0.1926,     0.18168,      0.1926,      0.1926,      0.1926,      0.1926,      0.1926,      0.1926,    0.062112,      0.1926,      0.1926,      0.1926,      0.1926,      0.1926,     0.40298,\n",
       "            0.1926,      0.1926,      0.1926,     0.11869])\n",
       "names: {0: 'Albacore', 1: 'Bigeye tuna', 2: 'Black marlin', 3: 'Blue marlin', 4: 'Great barracuda', 5: 'Human', 6: 'Indo Pacific sailfish', 7: 'Long snouted lancetfish', 8: 'Mahi mahi', 9: 'Mola mola', 10: 'No fish', 11: 'Oilfish', 12: 'Opah', 13: 'Pelagic stingray', 14: 'Pomfret', 15: 'Rainbow runner', 16: 'Roudie scolar', 17: 'Shark', 18: 'Shortbill spearfish', 19: 'Sickle pomfret', 20: 'Skipjack tuna', 21: 'Snake mackerel', 22: 'Striped marlin', 23: 'Swordfish', 24: 'Thresher shark', 25: 'Unknown', 26: 'Wahoo', 27: 'Yellowfin tuna'}\n",
       "plot: True\n",
       "results_dict: {'metrics/precision(B)': 0.2385679680509502, 'metrics/recall(B)': 0.6865458108681576, 'metrics/mAP50(B)': 0.2544409431894792, 'metrics/mAP50-95(B)': 0.1925982209549186, 'fitness': 0.19878249317837468}\n",
       "save_dir: PosixPath('/sfs/weka/scratch/acg3wjm/DSProject3/runs/fishnet_yolov8')\n",
       "speed: {'preprocess': 0.08823646910896203, 'inference': 0.9120583112873485, 'loss': 0.00022559028766964856, 'postprocess': 0.6590000206412736}\n",
       "task: 'detect'"
      ]
     },
     "execution_count": 7,
     "metadata": {},
     "output_type": "execute_result"
    }
   ],
   "source": [
    "model.train(\n",
    "    data=r\"/sfs/weka/scratch/acg3wjm/DSProject3/SCRIPTS/images/data.yaml\",\n",
    "    epochs=50,\n",
    "    imgsz=640,\n",
    "    batch=16,\n",
    "    name=\"fishnet_yolov8\",\n",
    "    device=0,\n",
    "    workers=4,\n",
    "    project=r\"/sfs/weka/scratch/acg3wjm/DSProject3/runs\",  # explicit output directory\n",
    "    exist_ok=True  # overwrite existing project\n",
    ")\n"
   ]
  }
 ],
 "metadata": {
  "kernelspec": {
   "display_name": "Python 3 (ipykernel)",
   "language": "python",
   "name": "python3"
  },
  "language_info": {
   "codemirror_mode": {
    "name": "ipython",
    "version": 3
   },
   "file_extension": ".py",
   "mimetype": "text/x-python",
   "name": "python",
   "nbconvert_exporter": "python",
   "pygments_lexer": "ipython3",
   "version": "3.11.4"
  }
 },
 "nbformat": 4,
 "nbformat_minor": 5
}
