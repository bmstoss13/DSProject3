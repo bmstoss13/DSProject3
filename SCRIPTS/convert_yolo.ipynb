{
 "cells": [
  {
   "cell_type": "code",
   "execution_count": 1,
   "id": "12fc6dec-903d-479d-a3a7-07531eb2615b",
   "metadata": {
    "tags": []
   },
   "outputs": [],
   "source": [
    "import pandas as pd\n",
    "import os\n",
    "\n",
    "# Load the CSV\n",
    "csv_path = \"cleaned_foid.csv\"\n",
    "df = pd.read_csv(csv_path)"
   ]
  },
  {
   "cell_type": "code",
   "execution_count": 5,
   "id": "55f19416-6e4b-4b31-bfcf-0747e670c98a",
   "metadata": {
    "tags": []
   },
   "outputs": [],
   "source": [
    "# Create a label to class_id mapping\n",
    "label_map = {label: idx for idx, label in enumerate(df['label'].unique())}\n",
    "\n",
    "# Directory where YOLO txt files will be saved\n",
    "output_dir = \"labels/\"\n",
    "os.makedirs(output_dir, exist_ok=True)\n",
    "\n",
    "# Group annotations by image\n",
    "for filename, group in df.groupby('img_id'):\n",
    "    label_lines = []\n",
    "    for _, row in group.iterrows():\n",
    "        class_id = label_map[row['label']]\n",
    "        x_min, y_min, x_max, y_max = row['x_min'], row['y_min'], row['x_max'], row['y_max']\n",
    "        img_width, img_height = row['width'], row['height']\n",
    "\n",
    "        x_center = ((x_min + x_max) / 2) / img_width\n",
    "        y_center = ((y_min + y_max) / 2) / img_height\n",
    "        width = (x_max - x_min) / img_width\n",
    "        height = (y_max - y_min) / img_height\n",
    "\n",
    "        label_lines.append(f\"{class_id} {x_center:.6f} {y_center:.6f} {width:.6f} {height:.6f}\")\n",
    "\n",
    "    # Write to corresponding YOLO format .txt file\n",
    "    txt_filename = os.path.splitext(filename)[0] + \".txt\"\n",
    "    with open(os.path.join(output_dir, txt_filename), \"w\") as f:\n",
    "        f.write(\"\\n\".join(label_lines))"
   ]
  },
  {
   "cell_type": "code",
   "execution_count": null,
   "id": "b0110f7d-298c-4764-8e4e-d1153a6703fd",
   "metadata": {},
   "outputs": [],
   "source": []
  }
 ],
 "metadata": {
  "kernelspec": {
   "display_name": "Python 3 (ipykernel)",
   "language": "python",
   "name": "python3"
  },
  "language_info": {
   "codemirror_mode": {
    "name": "ipython",
    "version": 3
   },
   "file_extension": ".py",
   "mimetype": "text/x-python",
   "name": "python",
   "nbconvert_exporter": "python",
   "pygments_lexer": "ipython3",
   "version": "3.11.4"
  }
 },
 "nbformat": 4,
 "nbformat_minor": 5
}
